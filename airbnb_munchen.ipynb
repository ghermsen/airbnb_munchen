{
 "cells": [
  {
   "cell_type": "markdown",
   "id": "severe-apparatus",
   "metadata": {},
   "source": [
    "<p float=\"right\">\n",
    "    <a href=\"https://www.linkedin.com/in/gabrielhermsen/\"><img src=\"https://img.shields.io/badge/author-ghermsen-red.svg\" width=\"25%\" /></a>\n",
    "    <a href=\"https://docs.python.org/3.9/\"><img src=\"https://img.shields.io/badge/python-3.9-blue.svg\" width=\"25%\" /></a>\n",
    "    <a href=\"http://perso.crans.org/besson/LICENSE.html\"><img src=\"https://img.shields.io/badge/License-GPLv3-blue.svg\" width=\"25%\" /></a>\n",
    "    <a href=\"https://github.com/ghermsen/airbnb_munchen/issues\"><img src=\"https://img.shields.io/badge/contributions-welcome-brightgreen.svg?style=flat\" width=\"25%\" /></a>\n",
    "</p>"
   ]
  },
  {
   "cell_type": "markdown",
   "id": "sufficient-bunny",
   "metadata": {},
   "source": [
    "[![author](https://img.shields.io/badge/author-ghermsen-red.svg)](https://www.linkedin.com/in/gabrielhermsen/) [![](https://img.shields.io/badge/python-3.9-blue.svg)](https://docs.python.org/3.9/) [![GPLv3 license](https://img.shields.io/badge/License-GPLv3-blue.svg)](http://perso.crans.org/besson/LICENSE.html) [![contributions welcome](https://img.shields.io/badge/contributions-welcome-brightgreen.svg?style=flat)](https://github.com/ghermsen/airbnb_munchen/issues)"
   ]
  },
  {
   "cell_type": "markdown",
   "id": "identified-calvin",
   "metadata": {},
   "source": [
    "# Data Analysis from Airbnb - Munich\n",
    "\n",
    "The IPO (Initial Public Offering, that is, the process in which a private company goes public by selling its shares to the general public) of [Airbnb](https://www.airbnb.com) took place on December 9, 2020, and its shares started trading on December 10, 2020. On that day, the company's shares were worth USD144.71, an incredible 112.00% more than the USD68.00 value set by the company in its IPO, making the company reach the mark of USD100 Billion in market value, surpassing giants from hotel industries like Marriott International, Hilton, and Hyatt.\n",
    "\n",
    "The Startup, founded in 2008, offers an attractive and easy-to-use platform for its users, connecting travelers or people who want to stay in a property and hosts (people who prefer to rent their property for a short time). Airbnb is present in more than 80,000 cities worldwide and has hosted more than 300 million people, and it is considered by many to be the largest hotel company today, and the main detail is: Airbnb does not have any hotels!\n",
    "\n",
    "One of Airbnb's initiatives is to provide website data for some of the world's major cities. Through the [Inside Airbnb](http://insideairbnb.com/get-the-data.html), it is possible to download a large amount of data to develop Data Science projects and solutions.\n",
    "\n",
    "**In this project, we will analyze the data for the city of Munich and see which insights can be extracted from raw data.**\n",
    "\n",
    "\n",
    "![München](https://www.sueddeutsche.de/image/sz.1.4251859/1840x772?v=1544705249&format=webp)\n",
    "*Image Source: [Süddeutsche Zeitung](https://www.sueddeutsche.de/muenchen/airbnb-kommentar-1.4251629)*\n",
    "\n",
    "---"
   ]
  },
  {
   "cell_type": "markdown",
   "id": "cognitive-major",
   "metadata": {},
   "source": [
    "## Imports"
   ]
  },
  {
   "cell_type": "markdown",
   "id": "public-comfort",
   "metadata": {},
   "source": [
    "Below there are all the libraries used in this project."
   ]
  },
  {
   "cell_type": "code",
   "execution_count": 2,
   "id": "sufficient-synthetic",
   "metadata": {
    "ExecuteTime": {
     "end_time": "2021-02-10T13:31:23.703955Z",
     "start_time": "2021-02-10T13:31:23.697055Z"
    }
   },
   "outputs": [],
   "source": [
    "import geopandas as gpd\n",
    "import pandas as pd\n",
    "import matplotlib.pyplot as plt\n",
    "import seaborn as sns\n",
    "\n",
    "from geopy import Nominatim\n",
    "from functools import reduce\n",
    "\n",
    "plt.style.use('seaborn')\n",
    "plt.rcParams['figure.figsize'] = [18, 11]"
   ]
  },
  {
   "cell_type": "markdown",
   "id": "touched-writer",
   "metadata": {},
   "source": [
    "## Obtaining the Data"
   ]
  },
  {
   "cell_type": "markdown",
   "id": "therapeutic-advance",
   "metadata": {},
   "source": [
    "All data used in this project was obtained from the website [Inside Airbnb](http://insideairbnb.com/get-the-data.html).\n",
    "\n",
    "For this data analysis, the following files will be downloaded:\n",
    "\n",
    "* Exploratory Data Analysis\n",
    "    * City - Munich, Bavaria, Germany\n",
    "    * Data Compiled - 24 December, 2020\n",
    "    * File - `listings.csv` - *Summary information and metrics for listings in Munich (good for visualisations)*.\n",
    "    \n",
    "    \n",
    "* Map visualization\n",
    "    * City - Munich, Bavaria, Germany\n",
    "    * Data Compiled - N/A\n",
    "    * File - `neighbourhoods.geojson` - *GeoJSON file of neighbourhoods of the city.*."
   ]
  },
  {
   "cell_type": "code",
   "execution_count": 3,
   "id": "sweet-retrieval",
   "metadata": {
    "ExecuteTime": {
     "end_time": "2021-02-10T13:31:29.769500Z",
     "start_time": "2021-02-10T13:31:27.559328Z"
    }
   },
   "outputs": [],
   "source": [
    "# importing the data\n",
    "\n",
    "df_raw = pd.read_csv('http://data.insideairbnb.com/germany/bv/munich/2020-12-24/visualisations/listings.csv')\n",
    "\n",
    "munich_neighbourhoods_airbnb_df = gpd.read_file('http://data.insideairbnb.com/germany/bv/munich/2020-12-24/visualisations/neighbourhoods.geojson')"
   ]
  },
  {
   "cell_type": "markdown",
   "id": "widespread-pendant",
   "metadata": {},
   "source": [
    "### Understanding the Dataset"
   ]
  },
  {
   "cell_type": "markdown",
   "id": "victorian-report",
   "metadata": {},
   "source": [
    "Understanding the data is a fundamental step in any data science project. It will show us the variables available in our dataset and how these variables are structured. This step helps us understand the type of problem and how we will solve it.\n",
    "\n",
    "**Variables' Dictionary**:\n",
    "\n",
    "* `id` - property id number\n",
    "* `name` - property name announced\n",
    "* `host_id` - host id number\n",
    "* `host_name` - host name\n",
    "* `neighbourhood_group` - there are no values and will be deleted\n",
    "* `neighbourhood` - neighbourhood name\n",
    "* `latitude` - property latitude\n",
    "* `longitude` - property longitude\n",
    "* `room_type` - property type announced\n",
    "* `price` - daily rate\n",
    "* `minimum_nights` - minimum number of nights to book\n",
    "* `number_of_reviews` - total number of reviews for the property\n",
    "* `last_review` - date of the last review\n",
    "* `reviews_per_month` - number of reviews per month\n",
    "* `calculated_host_listings_count` - number of properties from the same host\n",
    "* `availability_365` - number of days available in the calendar year\n",
    "    * **in München there is a rule where entire properties can be rented for only 8 weeks during the calendar year, however, this restriction is not valid for rooms**.\n",
    "\n",
    "We can now check the first five entries in our dataset to better understand our data."
   ]
  },
  {
   "cell_type": "code",
   "execution_count": 4,
   "id": "muslim-fault",
   "metadata": {
    "ExecuteTime": {
     "end_time": "2021-02-10T13:31:31.411384Z",
     "start_time": "2021-02-10T13:31:31.364857Z"
    }
   },
   "outputs": [
    {
     "data": {
      "text/html": [
       "<div>\n",
       "<style scoped>\n",
       "    .dataframe tbody tr th:only-of-type {\n",
       "        vertical-align: middle;\n",
       "    }\n",
       "\n",
       "    .dataframe tbody tr th {\n",
       "        vertical-align: top;\n",
       "    }\n",
       "\n",
       "    .dataframe thead th {\n",
       "        text-align: right;\n",
       "    }\n",
       "</style>\n",
       "<table border=\"1\" class=\"dataframe\">\n",
       "  <thead>\n",
       "    <tr style=\"text-align: right;\">\n",
       "      <th></th>\n",
       "      <th>id</th>\n",
       "      <th>name</th>\n",
       "      <th>host_id</th>\n",
       "      <th>host_name</th>\n",
       "      <th>neighbourhood_group</th>\n",
       "      <th>neighbourhood</th>\n",
       "      <th>latitude</th>\n",
       "      <th>longitude</th>\n",
       "      <th>room_type</th>\n",
       "      <th>price</th>\n",
       "      <th>minimum_nights</th>\n",
       "      <th>number_of_reviews</th>\n",
       "      <th>last_review</th>\n",
       "      <th>reviews_per_month</th>\n",
       "      <th>calculated_host_listings_count</th>\n",
       "      <th>availability_365</th>\n",
       "    </tr>\n",
       "  </thead>\n",
       "  <tbody>\n",
       "    <tr>\n",
       "      <th>0</th>\n",
       "      <td>97945</td>\n",
       "      <td>Deluxw-Apartm. with roof terrace</td>\n",
       "      <td>517685</td>\n",
       "      <td>Angelika</td>\n",
       "      <td>NaN</td>\n",
       "      <td>Hadern</td>\n",
       "      <td>48.11476</td>\n",
       "      <td>11.48782</td>\n",
       "      <td>Entire home/apt</td>\n",
       "      <td>80</td>\n",
       "      <td>2</td>\n",
       "      <td>130</td>\n",
       "      <td>2019-10-03</td>\n",
       "      <td>1.18</td>\n",
       "      <td>2</td>\n",
       "      <td>5</td>\n",
       "    </tr>\n",
       "    <tr>\n",
       "      <th>1</th>\n",
       "      <td>114695</td>\n",
       "      <td>Apartment Munich/East with sundeck</td>\n",
       "      <td>581737</td>\n",
       "      <td>Stephan</td>\n",
       "      <td>NaN</td>\n",
       "      <td>Berg am Laim</td>\n",
       "      <td>48.11923</td>\n",
       "      <td>11.63726</td>\n",
       "      <td>Entire home/apt</td>\n",
       "      <td>95</td>\n",
       "      <td>2</td>\n",
       "      <td>53</td>\n",
       "      <td>2019-10-06</td>\n",
       "      <td>0.46</td>\n",
       "      <td>2</td>\n",
       "      <td>52</td>\n",
       "    </tr>\n",
       "    <tr>\n",
       "      <th>2</th>\n",
       "      <td>127383</td>\n",
       "      <td>City apartment next to Pinakothek</td>\n",
       "      <td>630556</td>\n",
       "      <td>Sonja</td>\n",
       "      <td>NaN</td>\n",
       "      <td>Maxvorstadt</td>\n",
       "      <td>48.15198</td>\n",
       "      <td>11.56486</td>\n",
       "      <td>Entire home/apt</td>\n",
       "      <td>99</td>\n",
       "      <td>2</td>\n",
       "      <td>93</td>\n",
       "      <td>2020-10-20</td>\n",
       "      <td>0.80</td>\n",
       "      <td>1</td>\n",
       "      <td>9</td>\n",
       "    </tr>\n",
       "    <tr>\n",
       "      <th>3</th>\n",
       "      <td>170815</td>\n",
       "      <td>Your own flat near central station!</td>\n",
       "      <td>814793</td>\n",
       "      <td>Inge</td>\n",
       "      <td>NaN</td>\n",
       "      <td>Neuhausen-Nymphenburg</td>\n",
       "      <td>48.16132</td>\n",
       "      <td>11.54154</td>\n",
       "      <td>Entire home/apt</td>\n",
       "      <td>65</td>\n",
       "      <td>3</td>\n",
       "      <td>64</td>\n",
       "      <td>2020-02-18</td>\n",
       "      <td>0.56</td>\n",
       "      <td>1</td>\n",
       "      <td>0</td>\n",
       "    </tr>\n",
       "    <tr>\n",
       "      <th>4</th>\n",
       "      <td>171749</td>\n",
       "      <td>1min to subway - Wettersteinplatz</td>\n",
       "      <td>819382</td>\n",
       "      <td>Tarek</td>\n",
       "      <td>NaN</td>\n",
       "      <td>Untergiesing-Harlaching</td>\n",
       "      <td>48.10583</td>\n",
       "      <td>11.57843</td>\n",
       "      <td>Private room</td>\n",
       "      <td>37</td>\n",
       "      <td>3</td>\n",
       "      <td>357</td>\n",
       "      <td>2020-12-04</td>\n",
       "      <td>3.12</td>\n",
       "      <td>1</td>\n",
       "      <td>85</td>\n",
       "    </tr>\n",
       "  </tbody>\n",
       "</table>\n",
       "</div>"
      ],
      "text/plain": [
       "       id                                 name  host_id host_name  \\\n",
       "0   97945     Deluxw-Apartm. with roof terrace   517685  Angelika   \n",
       "1  114695   Apartment Munich/East with sundeck   581737   Stephan   \n",
       "2  127383    City apartment next to Pinakothek   630556     Sonja   \n",
       "3  170815  Your own flat near central station!   814793      Inge   \n",
       "4  171749    1min to subway - Wettersteinplatz   819382     Tarek   \n",
       "\n",
       "   neighbourhood_group            neighbourhood  latitude  longitude  \\\n",
       "0                  NaN                   Hadern  48.11476   11.48782   \n",
       "1                  NaN             Berg am Laim  48.11923   11.63726   \n",
       "2                  NaN              Maxvorstadt  48.15198   11.56486   \n",
       "3                  NaN    Neuhausen-Nymphenburg  48.16132   11.54154   \n",
       "4                  NaN  Untergiesing-Harlaching  48.10583   11.57843   \n",
       "\n",
       "         room_type  price  minimum_nights  number_of_reviews last_review  \\\n",
       "0  Entire home/apt     80               2                130  2019-10-03   \n",
       "1  Entire home/apt     95               2                 53  2019-10-06   \n",
       "2  Entire home/apt     99               2                 93  2020-10-20   \n",
       "3  Entire home/apt     65               3                 64  2020-02-18   \n",
       "4     Private room     37               3                357  2020-12-04   \n",
       "\n",
       "   reviews_per_month  calculated_host_listings_count  availability_365  \n",
       "0               1.18                               2                 5  \n",
       "1               0.46                               2                52  \n",
       "2               0.80                               1                 9  \n",
       "3               0.56                               1                 0  \n",
       "4               3.12                               1                85  "
      ]
     },
     "execution_count": 4,
     "metadata": {},
     "output_type": "execute_result"
    }
   ],
   "source": [
    "# checking the first entries\n",
    "\n",
    "df_raw.head()"
   ]
  },
  {
   "cell_type": "markdown",
   "id": "tribal-uniform",
   "metadata": {},
   "source": [
    "### Dataset Size and Types of Variables"
   ]
  },
  {
   "cell_type": "markdown",
   "id": "unknown-jason",
   "metadata": {},
   "source": [
    "Below, it is possible to see the size of our dataset and the type of its variables."
   ]
  },
  {
   "cell_type": "code",
   "execution_count": 5,
   "id": "cheap-registrar",
   "metadata": {
    "ExecuteTime": {
     "end_time": "2021-02-10T13:31:33.642927Z",
     "start_time": "2021-02-10T13:31:33.636169Z"
    }
   },
   "outputs": [
    {
     "name": "stdout",
     "output_type": "stream",
     "text": [
      "Number of Entries:\t 4815\n",
      "Number of Features:\t 16\n"
     ]
    }
   ],
   "source": [
    "# dataset size\n",
    "\n",
    "print(f'Number of Entries:\\t {df_raw.shape[0]}')\n",
    "print(f'Number of Features:\\t {df_raw.shape[1]}')"
   ]
  },
  {
   "cell_type": "code",
   "execution_count": 6,
   "id": "neither-pottery",
   "metadata": {
    "ExecuteTime": {
     "end_time": "2021-02-10T13:31:34.389192Z",
     "start_time": "2021-02-10T13:31:34.375931Z"
    }
   },
   "outputs": [
    {
     "data": {
      "text/plain": [
       "id                                  int64\n",
       "name                               object\n",
       "host_id                             int64\n",
       "host_name                          object\n",
       "neighbourhood_group               float64\n",
       "neighbourhood                      object\n",
       "latitude                          float64\n",
       "longitude                         float64\n",
       "room_type                          object\n",
       "price                               int64\n",
       "minimum_nights                      int64\n",
       "number_of_reviews                   int64\n",
       "last_review                        object\n",
       "reviews_per_month                 float64\n",
       "calculated_host_listings_count      int64\n",
       "availability_365                    int64\n",
       "dtype: object"
      ]
     },
     "execution_count": 6,
     "metadata": {},
     "output_type": "execute_result"
    }
   ],
   "source": [
    "# type of variables\n",
    "\n",
    "df_raw.dtypes"
   ]
  },
  {
   "cell_type": "markdown",
   "id": "beginning-feeling",
   "metadata": {},
   "source": [
    "### Cleaning the Dataset"
   ]
  },
  {
   "cell_type": "markdown",
   "id": "better-apache",
   "metadata": {},
   "source": [
    "Looking at the Variables Dictionary and also the types of variables present in the dataset, it is possible to see the presence of variables that will not be used in our analysis, such as:\n",
    "\n",
    "- `id`\n",
    "- `host_id`\n",
    "- `host_name`\n",
    "- `neighbourhood_group`\n",
    "- `number_of_reviews`\n",
    "- `last_review`\n",
    "- `reviews_per_month`\n",
    "- `calculated_host_listings_count`\n",
    "\n",
    "For a cleaner and more objective analysis, these variables will be deleted.\n",
    "\n",
    "Below, there is a sample of our dataset."
   ]
  },
  {
   "cell_type": "code",
   "execution_count": 7,
   "id": "improving-transition",
   "metadata": {
    "ExecuteTime": {
     "end_time": "2021-02-10T13:31:37.049636Z",
     "start_time": "2021-02-10T13:31:36.994132Z"
    }
   },
   "outputs": [
    {
     "data": {
      "text/html": [
       "<div>\n",
       "<style scoped>\n",
       "    .dataframe tbody tr th:only-of-type {\n",
       "        vertical-align: middle;\n",
       "    }\n",
       "\n",
       "    .dataframe tbody tr th {\n",
       "        vertical-align: top;\n",
       "    }\n",
       "\n",
       "    .dataframe thead th {\n",
       "        text-align: right;\n",
       "    }\n",
       "</style>\n",
       "<table border=\"1\" class=\"dataframe\">\n",
       "  <thead>\n",
       "    <tr style=\"text-align: right;\">\n",
       "      <th></th>\n",
       "      <th>name</th>\n",
       "      <th>neighbourhood</th>\n",
       "      <th>latitude</th>\n",
       "      <th>longitude</th>\n",
       "      <th>room_type</th>\n",
       "      <th>price</th>\n",
       "      <th>minimum_nights</th>\n",
       "      <th>availability_365</th>\n",
       "    </tr>\n",
       "  </thead>\n",
       "  <tbody>\n",
       "    <tr>\n",
       "      <th>3598</th>\n",
       "      <td>Luxus Studio in Munich (West)</td>\n",
       "      <td>Aubing-Lochhausen-Langwied</td>\n",
       "      <td>48.14873</td>\n",
       "      <td>11.43508</td>\n",
       "      <td>Entire home/apt</td>\n",
       "      <td>80</td>\n",
       "      <td>3</td>\n",
       "      <td>51</td>\n",
       "    </tr>\n",
       "  </tbody>\n",
       "</table>\n",
       "</div>"
      ],
      "text/plain": [
       "                               name               neighbourhood  latitude  \\\n",
       "3598  Luxus Studio in Munich (West)  Aubing-Lochhausen-Langwied  48.14873   \n",
       "\n",
       "      longitude        room_type  price  minimum_nights  availability_365  \n",
       "3598   11.43508  Entire home/apt     80               3                51  "
      ]
     },
     "execution_count": 7,
     "metadata": {},
     "output_type": "execute_result"
    }
   ],
   "source": [
    "# cleaning the dataset\n",
    "\n",
    "df_raw.drop('id', axis = 1, inplace = True)\n",
    "df_raw.drop('host_id', axis = 1, inplace = True)\n",
    "df_raw.drop('host_name', axis = 1, inplace = True)\n",
    "df_raw.drop('neighbourhood_group', axis = 1, inplace = True)\n",
    "df_raw.drop('number_of_reviews', axis = 1, inplace = True)\n",
    "df_raw.drop('last_review', axis = 1, inplace = True)\n",
    "df_raw.drop('reviews_per_month', axis = 1, inplace = True)\n",
    "df_raw.drop('calculated_host_listings_count', axis = 1, inplace = True)\n",
    "\n",
    "df_raw.sample()"
   ]
  },
  {
   "cell_type": "markdown",
   "id": "coupled-webmaster",
   "metadata": {},
   "source": [
    "### Missing Values"
   ]
  },
  {
   "cell_type": "markdown",
   "id": "pharmaceutical-greene",
   "metadata": {},
   "source": [
    "The quality of a dataset is directly related to the number of missing values. It is important to understand early on whether these null values are significant concerning the total number of entries to avoid future problems in our analysis.\n",
    "\n",
    "* The variable `name` has approximately 0.02% of the null values, which is considered as a non-significant amount in the case that these variables are to be used for analysis.\n",
    "\n",
    "As the variables that will not be used previously have been cleaned up, this dataset has practically no null values, therefore no null values treatment will be performed."
   ]
  },
  {
   "cell_type": "code",
   "execution_count": 8,
   "id": "western-mills",
   "metadata": {
    "ExecuteTime": {
     "end_time": "2021-02-10T13:31:40.109048Z",
     "start_time": "2021-02-10T13:31:40.084107Z"
    }
   },
   "outputs": [
    {
     "data": {
      "text/plain": [
       "name                0.000208\n",
       "neighbourhood       0.000000\n",
       "latitude            0.000000\n",
       "longitude           0.000000\n",
       "room_type           0.000000\n",
       "price               0.000000\n",
       "minimum_nights      0.000000\n",
       "availability_365    0.000000\n",
       "dtype: float64"
      ]
     },
     "execution_count": 8,
     "metadata": {},
     "output_type": "execute_result"
    }
   ],
   "source": [
    "# checking missing values\n",
    "\n",
    "((df_raw.isnull()).sum() / df_raw.shape[0]).sort_values(ascending = False)"
   ]
  },
  {
   "cell_type": "markdown",
   "id": "informative-selection",
   "metadata": {},
   "source": [
    "### Outliers Detection and Treatment"
   ]
  },
  {
   "cell_type": "markdown",
   "id": "acceptable-trinity",
   "metadata": {},
   "source": [
    "Outliers are data that are very far from your dataset, that is, data out of \"normal\". They are problematic due to distortions in the actual values of the dataset caused by them, resulting in the loss of information.\n",
    "\n",
    "For this, a histogram will be plotted to check for the presence of outliers."
   ]
  },
  {
   "cell_type": "code",
   "execution_count": 9,
   "id": "oriented-policy",
   "metadata": {
    "ExecuteTime": {
     "end_time": "2021-02-10T13:31:43.414297Z",
     "start_time": "2021-02-10T13:31:41.976939Z"
    }
   },
   "outputs": [
    {
     "data": {
      "image/png": "[encoded data removed]",
      "text/plain": [
       "<Figure size 1080x1080 with 6 Axes>"
      ]
     },
     "metadata": {},
     "output_type": "display_data"
    }
   ],
   "source": [
    "# variables histogram distribuition\n",
    "\n",
    "df_raw.hist(bins = 15, figsize = (15,15));"
   ]
  },
  {
   "cell_type": "markdown",
   "id": "living-saying",
   "metadata": {},
   "source": [
    "Through the histogram, it is possible to verify the presence of outliers in the variables `price` and `minimum_nights`.\n",
    "\n",
    "The values do not follow a distribution and distort the entire graphical representation. To confirm it, there are two quick ways to help detect outliers:\n",
    "\n",
    "* Summary statistics using the `describe()` method;\n",
    "* Plot `boxplots` for the variables."
   ]
  },
  {
   "cell_type": "code",
   "execution_count": 10,
   "id": "clinical-mixture",
   "metadata": {
    "ExecuteTime": {
     "end_time": "2021-02-10T13:31:43.475302Z",
     "start_time": "2021-02-10T13:31:43.418512Z"
    }
   },
   "outputs": [
    {
     "data": {
      "text/html": [
       "<div>\n",
       "<style scoped>\n",
       "    .dataframe tbody tr th:only-of-type {\n",
       "        vertical-align: middle;\n",
       "    }\n",
       "\n",
       "    .dataframe tbody tr th {\n",
       "        vertical-align: top;\n",
       "    }\n",
       "\n",
       "    .dataframe thead th {\n",
       "        text-align: right;\n",
       "    }\n",
       "</style>\n",
       "<table border=\"1\" class=\"dataframe\">\n",
       "  <thead>\n",
       "    <tr style=\"text-align: right;\">\n",
       "      <th></th>\n",
       "      <th>latitude</th>\n",
       "      <th>longitude</th>\n",
       "      <th>price</th>\n",
       "      <th>minimum_nights</th>\n",
       "      <th>availability_365</th>\n",
       "    </tr>\n",
       "  </thead>\n",
       "  <tbody>\n",
       "    <tr>\n",
       "      <th>count</th>\n",
       "      <td>4815.000000</td>\n",
       "      <td>4815.000000</td>\n",
       "      <td>4815.000000</td>\n",
       "      <td>4815.000000</td>\n",
       "      <td>4815.000000</td>\n",
       "    </tr>\n",
       "    <tr>\n",
       "      <th>mean</th>\n",
       "      <td>48.140364</td>\n",
       "      <td>11.566340</td>\n",
       "      <td>113.059398</td>\n",
       "      <td>7.581931</td>\n",
       "      <td>170.044444</td>\n",
       "    </tr>\n",
       "    <tr>\n",
       "      <th>std</th>\n",
       "      <td>0.026349</td>\n",
       "      <td>0.047674</td>\n",
       "      <td>246.613897</td>\n",
       "      <td>27.814543</td>\n",
       "      <td>136.200772</td>\n",
       "    </tr>\n",
       "    <tr>\n",
       "      <th>min</th>\n",
       "      <td>48.070270</td>\n",
       "      <td>11.386160</td>\n",
       "      <td>0.000000</td>\n",
       "      <td>1.000000</td>\n",
       "      <td>0.000000</td>\n",
       "    </tr>\n",
       "    <tr>\n",
       "      <th>25%</th>\n",
       "      <td>48.122785</td>\n",
       "      <td>11.540080</td>\n",
       "      <td>50.000000</td>\n",
       "      <td>1.000000</td>\n",
       "      <td>59.000000</td>\n",
       "    </tr>\n",
       "    <tr>\n",
       "      <th>50%</th>\n",
       "      <td>48.137760</td>\n",
       "      <td>11.566250</td>\n",
       "      <td>75.000000</td>\n",
       "      <td>2.000000</td>\n",
       "      <td>137.000000</td>\n",
       "    </tr>\n",
       "    <tr>\n",
       "      <th>75%</th>\n",
       "      <td>48.157890</td>\n",
       "      <td>11.589025</td>\n",
       "      <td>120.000000</td>\n",
       "      <td>3.000000</td>\n",
       "      <td>331.000000</td>\n",
       "    </tr>\n",
       "    <tr>\n",
       "      <th>max</th>\n",
       "      <td>48.229420</td>\n",
       "      <td>11.716460</td>\n",
       "      <td>8255.000000</td>\n",
       "      <td>800.000000</td>\n",
       "      <td>365.000000</td>\n",
       "    </tr>\n",
       "  </tbody>\n",
       "</table>\n",
       "</div>"
      ],
      "text/plain": [
       "          latitude    longitude        price  minimum_nights  availability_365\n",
       "count  4815.000000  4815.000000  4815.000000     4815.000000       4815.000000\n",
       "mean     48.140364    11.566340   113.059398        7.581931        170.044444\n",
       "std       0.026349     0.047674   246.613897       27.814543        136.200772\n",
       "min      48.070270    11.386160     0.000000        1.000000          0.000000\n",
       "25%      48.122785    11.540080    50.000000        1.000000         59.000000\n",
       "50%      48.137760    11.566250    75.000000        2.000000        137.000000\n",
       "75%      48.157890    11.589025   120.000000        3.000000        331.000000\n",
       "max      48.229420    11.716460  8255.000000      800.000000        365.000000"
      ]
     },
     "execution_count": 10,
     "metadata": {},
     "output_type": "execute_result"
    }
   ],
   "source": [
    "# summary statistics\n",
    "\n",
    "df_raw.describe()"
   ]
  },
  {
   "cell_type": "markdown",
   "id": "sunrise-debut",
   "metadata": {},
   "source": [
    "Looking at the statistical summary above, it is possible to obtain valuable information for the analysis and about the presence of outliers.\n",
    "\n",
    "* The variable `prices` has 75% of its values below 120, but its maximum value is 8255, which is well above the values obtained up to 75% of the dataset, which proves the presence of outliers.\n",
    "* The variable `prices` presents minimum values equal to 0. Understanding the Airbnb business, it is known that no one rents any property on Airbnb for free.\n",
    "* The variable `minimum_nights` has 75% of its values below 3, but its maximum value is 800, which is well above the values obtained up to 75% of the dataset, which proves the presence of outliers."
   ]
  },
  {
   "cell_type": "markdown",
   "id": "duplicate-father",
   "metadata": {},
   "source": [
    "#### Boxplot for \"prices\""
   ]
  },
  {
   "cell_type": "markdown",
   "id": "referenced-christian",
   "metadata": {},
   "source": [
    "Below, the boxplot for the variable `price` visually shows the information contained in the summary statistics.\n",
    "\n",
    "As a parameter, all data greater than 1000 will be considered an outlier in this analysis. Below, you will see the quantity and ratio of these outliers and the values where `price` are equal to 0."
   ]
  },
  {
   "cell_type": "code",
   "execution_count": 11,
   "id": "hungry-progress",
   "metadata": {
    "ExecuteTime": {
     "end_time": "2021-02-10T13:31:46.461734Z",
     "start_time": "2021-02-10T13:31:46.222471Z"
    },
    "scrolled": true
   },
   "outputs": [
    {
     "data": {
      "image/png": "[encoded data removed]",
      "text/plain": [
       "<Figure size 1080x216 with 1 Axes>"
      ]
     },
     "metadata": {},
     "output_type": "display_data"
    },
    {
     "name": "stdout",
     "output_type": "stream",
     "text": [
      "prices - values greater than 1000\n",
      "Total:\t11\n",
      "Ratio:\t0.23%\n",
      "\n",
      "\n",
      "prices - values equal to 0\n",
      "Total:\t4\n",
      "Ratio:\t0.08%\n"
     ]
    }
   ],
   "source": [
    "# price\n",
    "\n",
    "df_raw['price'].plot(kind = 'box', vert = False, figsize = (15,3))\n",
    "plt.show()\n",
    "\n",
    "# check the amount of values higher than 1000 and equal to 0 for prices\n",
    "\n",
    "print('prices - values greater than 1000')\n",
    "print(f'Total:\\t{len(df_raw[df_raw.price > 1000])}')\n",
    "print(f'Ratio:\\t{(len(df_raw[df_raw.price > 1000]) / df_raw.shape[0]) * 100:.2f}%')\n",
    "print('\\n\\nprices - values equal to 0')\n",
    "print(f'Total:\\t{len(df_raw[df_raw.price == 0])}')\n",
    "print(f'Ratio:\\t{(len(df_raw[df_raw.price == 0]) / df_raw.shape[0]) * 100:.2f}%')"
   ]
  },
  {
   "cell_type": "markdown",
   "id": "small-citizenship",
   "metadata": {},
   "source": [
    "#### Boxplot for \"minimum_nights\""
   ]
  },
  {
   "cell_type": "markdown",
   "id": "naked-breach",
   "metadata": {},
   "source": [
    "Below, the boxplot for the variable `minimum_nights` visually shows the information contained in the summary statistics.\n",
    "\n",
    "As a parameter, all data greater than 30 will be considered an outlier in this analysis. Below, you will see the quantity and ratio of these outliers."
   ]
  },
  {
   "cell_type": "code",
   "execution_count": 12,
   "id": "little-venture",
   "metadata": {
    "ExecuteTime": {
     "end_time": "2021-02-10T13:31:48.518808Z",
     "start_time": "2021-02-10T13:31:48.283581Z"
    }
   },
   "outputs": [
    {
     "data": {
      "image/png": "[encoded data removed]",
      "text/plain": [
       "<Figure size 1080x216 with 1 Axes>"
      ]
     },
     "metadata": {},
     "output_type": "display_data"
    },
    {
     "name": "stdout",
     "output_type": "stream",
     "text": [
      "minimum_nights - values greater than 30\n",
      "Total:\t150\n",
      "Ratio:\t3.12%\n"
     ]
    }
   ],
   "source": [
    "# minimum_nights\n",
    "\n",
    "df_raw['minimum_nights'].plot(kind = 'box', vert = False, figsize = (15,3))\n",
    "plt.show()\n",
    "\n",
    "# check the amount of values higher than 30 for minimum_nights\n",
    "\n",
    "print('minimum_nights - values greater than 30')\n",
    "print(f'Total:\\t{len(df_raw[df_raw.minimum_nights > 30])}')\n",
    "print(f'Ratio:\\t{(len(df_raw[df_raw.minimum_nights > 30]) / df_raw.shape[0])*100:.2f}%')"
   ]
  },
  {
   "cell_type": "markdown",
   "id": "billion-customs",
   "metadata": {},
   "source": [
    "#### Removing Outliers and Creating Data Frame for Analysis"
   ]
  },
  {
   "cell_type": "markdown",
   "id": "beautiful-universal",
   "metadata": {},
   "source": [
    "Now with the outliers identified and treated, we shall plot new boxplots analyze them."
   ]
  },
  {
   "cell_type": "code",
   "execution_count": 13,
   "id": "wireless-documentary",
   "metadata": {
    "ExecuteTime": {
     "end_time": "2021-02-10T13:31:50.449188Z",
     "start_time": "2021-02-10T13:31:50.071798Z"
    }
   },
   "outputs": [
    {
     "data": {
      "image/png": "[encoded data removed]",
      "text/plain": [
       "<Figure size 1440x216 with 2 Axes>"
      ]
     },
     "metadata": {},
     "output_type": "display_data"
    }
   ],
   "source": [
    "# removing outliers\n",
    "\n",
    "df_raw.drop(df_raw[df_raw.price > 1000].index, axis = 0, inplace = True)\n",
    "df_raw.drop(df_raw[df_raw.price == 0].index, axis = 0, inplace = True)\n",
    "df_raw.drop(df_raw[df_raw.minimum_nights > 30].index, axis = 0, inplace = True)\n",
    "\n",
    "# plot boxplots without outliers\n",
    "\n",
    "plt.subplot(1,2,1)\n",
    "df_raw['price'].plot(kind = 'box', vert = False, figsize = (20,3))\n",
    "plt.subplot(1,2,2)\n",
    "df_raw['minimum_nights'].plot(kind = 'box', vert = False, figsize = (20,3))\n",
    "plt.show();"
   ]
  },
  {
   "cell_type": "markdown",
   "id": "thousand-sheep",
   "metadata": {},
   "source": [
    "Finally, with the clean data frame created and treated, the analysis begins."
   ]
  },
  {
   "cell_type": "code",
   "execution_count": 14,
   "id": "billion-airplane",
   "metadata": {
    "ExecuteTime": {
     "end_time": "2021-02-10T13:31:51.491887Z",
     "start_time": "2021-02-10T13:31:51.443644Z"
    }
   },
   "outputs": [
    {
     "data": {
      "text/html": [
       "<div>\n",
       "<style scoped>\n",
       "    .dataframe tbody tr th:only-of-type {\n",
       "        vertical-align: middle;\n",
       "    }\n",
       "\n",
       "    .dataframe tbody tr th {\n",
       "        vertical-align: top;\n",
       "    }\n",
       "\n",
       "    .dataframe thead th {\n",
       "        text-align: right;\n",
       "    }\n",
       "</style>\n",
       "<table border=\"1\" class=\"dataframe\">\n",
       "  <thead>\n",
       "    <tr style=\"text-align: right;\">\n",
       "      <th></th>\n",
       "      <th>latitude</th>\n",
       "      <th>longitude</th>\n",
       "      <th>price</th>\n",
       "      <th>minimum_nights</th>\n",
       "      <th>availability_365</th>\n",
       "    </tr>\n",
       "  </thead>\n",
       "  <tbody>\n",
       "    <tr>\n",
       "      <th>count</th>\n",
       "      <td>4650.000000</td>\n",
       "      <td>4650.000000</td>\n",
       "      <td>4650.000000</td>\n",
       "      <td>4650.000000</td>\n",
       "      <td>4650.000000</td>\n",
       "    </tr>\n",
       "    <tr>\n",
       "      <th>mean</th>\n",
       "      <td>48.140480</td>\n",
       "      <td>11.566240</td>\n",
       "      <td>105.230538</td>\n",
       "      <td>3.775699</td>\n",
       "      <td>168.139570</td>\n",
       "    </tr>\n",
       "    <tr>\n",
       "      <th>std</th>\n",
       "      <td>0.026387</td>\n",
       "      <td>0.047949</td>\n",
       "      <td>102.880266</td>\n",
       "      <td>5.897144</td>\n",
       "      <td>136.001446</td>\n",
       "    </tr>\n",
       "    <tr>\n",
       "      <th>min</th>\n",
       "      <td>48.070270</td>\n",
       "      <td>11.386160</td>\n",
       "      <td>10.000000</td>\n",
       "      <td>1.000000</td>\n",
       "      <td>0.000000</td>\n",
       "    </tr>\n",
       "    <tr>\n",
       "      <th>25%</th>\n",
       "      <td>48.122973</td>\n",
       "      <td>11.540028</td>\n",
       "      <td>50.000000</td>\n",
       "      <td>1.000000</td>\n",
       "      <td>58.000000</td>\n",
       "    </tr>\n",
       "    <tr>\n",
       "      <th>50%</th>\n",
       "      <td>48.137890</td>\n",
       "      <td>11.566060</td>\n",
       "      <td>75.000000</td>\n",
       "      <td>2.000000</td>\n",
       "      <td>116.500000</td>\n",
       "    </tr>\n",
       "    <tr>\n",
       "      <th>75%</th>\n",
       "      <td>48.157920</td>\n",
       "      <td>11.589037</td>\n",
       "      <td>120.000000</td>\n",
       "      <td>3.000000</td>\n",
       "      <td>327.000000</td>\n",
       "    </tr>\n",
       "    <tr>\n",
       "      <th>max</th>\n",
       "      <td>48.229420</td>\n",
       "      <td>11.716460</td>\n",
       "      <td>1000.000000</td>\n",
       "      <td>30.000000</td>\n",
       "      <td>365.000000</td>\n",
       "    </tr>\n",
       "  </tbody>\n",
       "</table>\n",
       "</div>"
      ],
      "text/plain": [
       "          latitude    longitude        price  minimum_nights  availability_365\n",
       "count  4650.000000  4650.000000  4650.000000     4650.000000       4650.000000\n",
       "mean     48.140480    11.566240   105.230538        3.775699        168.139570\n",
       "std       0.026387     0.047949   102.880266        5.897144        136.001446\n",
       "min      48.070270    11.386160    10.000000        1.000000          0.000000\n",
       "25%      48.122973    11.540028    50.000000        1.000000         58.000000\n",
       "50%      48.137890    11.566060    75.000000        2.000000        116.500000\n",
       "75%      48.157920    11.589037   120.000000        3.000000        327.000000\n",
       "max      48.229420    11.716460  1000.000000       30.000000        365.000000"
      ]
     },
     "execution_count": 14,
     "metadata": {},
     "output_type": "execute_result"
    }
   ],
   "source": [
    "df = df_raw.copy()\n",
    "\n",
    "df.describe()"
   ]
  },
  {
   "cell_type": "markdown",
   "id": "seasonal-geography",
   "metadata": {},
   "source": [
    "## Data Analysis"
   ]
  },
  {
   "cell_type": "markdown",
   "id": "sunrise-sunrise",
   "metadata": {},
   "source": [
    "This project aims to answer the following questions:\n",
    "\n",
    "**Questions**\n",
    "\n",
    "1. What is the proportion of the property types in Munich on Airbnb? And what is the proportion by neighbourhood?\n",
    "2. What is the average property price in the different neighbourhoods of Munich?\n",
    "3. How are property prices distributed in the 2 most expensive neighbourhoods?\n",
    "4. How are property prices distributed in the 2 cheapest neighbourhoods?\n",
    "5. Can tourist attractions represent high prices when choosing properties in Munich on Airbnb?"
   ]
  },
  {
   "cell_type": "markdown",
   "id": "handmade-moldova",
   "metadata": {},
   "source": [
    "### Q1 - What is the proportion of the property types in Munich on Airbnb? And what is the proportion by neighbourhood?"
   ]
  },
  {
   "cell_type": "markdown",
   "id": "earned-roots",
   "metadata": {},
   "source": [
    "It can be seen that the proportion of property types *'Entire home/apt'* and *'Private room'* in Munich is close, with **52.95%** and **44.09%** respectively."
   ]
  },
  {
   "cell_type": "code",
   "execution_count": 15,
   "id": "infrared-luxembourg",
   "metadata": {
    "ExecuteTime": {
     "end_time": "2021-02-10T13:31:55.778645Z",
     "start_time": "2021-02-10T13:31:55.766789Z"
    }
   },
   "outputs": [
    {
     "data": {
      "text/plain": [
       "Entire home/apt    2462\n",
       "Private room       2050\n",
       "Shared room          80\n",
       "Hotel room           58\n",
       "Name: room_type, dtype: int64"
      ]
     },
     "execution_count": 15,
     "metadata": {},
     "output_type": "execute_result"
    }
   ],
   "source": [
    "df.room_type.value_counts()"
   ]
  },
  {
   "cell_type": "code",
   "execution_count": 16,
   "id": "illegal-comment",
   "metadata": {
    "ExecuteTime": {
     "end_time": "2021-02-10T13:31:56.439999Z",
     "start_time": "2021-02-10T13:31:56.427789Z"
    }
   },
   "outputs": [
    {
     "data": {
      "text/plain": [
       "Entire home/apt    52.95%\n",
       "Private room       44.09%\n",
       "Shared room         1.72%\n",
       "Hotel room          1.25%\n",
       "Name: room_type, dtype: object"
      ]
     },
     "execution_count": 16,
     "metadata": {},
     "output_type": "execute_result"
    }
   ],
   "source": [
    "((df.room_type.value_counts() / df.shape[0]) * 100).apply('{:.2f}''%'.format)"
   ]
  },
  {
   "cell_type": "markdown",
   "id": "affiliated-township",
   "metadata": {},
   "source": [
    "As the property types *'Shared room'* and *'Hotel room'* are not relevant to the number of properties being rented on Airbnb in the city of Munich, I will continue this analysis in the neighbourhoods using only the property types *'Entire home/apt'* and *'Private room'*.\n",
    "\n",
    "It can be seen that the distribution of property types in Munich is well balanced in most neighbourhoods."
   ]
  },
  {
   "cell_type": "code",
   "execution_count": 17,
   "id": "heavy-hardware",
   "metadata": {
    "ExecuteTime": {
     "end_time": "2021-02-10T13:31:58.005797Z",
     "start_time": "2021-02-10T13:31:57.835385Z"
    }
   },
   "outputs": [
    {
     "data": {
      "text/html": [
       "<div>\n",
       "<style scoped>\n",
       "    .dataframe tbody tr th:only-of-type {\n",
       "        vertical-align: middle;\n",
       "    }\n",
       "\n",
       "    .dataframe tbody tr th {\n",
       "        vertical-align: top;\n",
       "    }\n",
       "\n",
       "    .dataframe thead th {\n",
       "        text-align: right;\n",
       "    }\n",
       "</style>\n",
       "<table border=\"1\" class=\"dataframe\">\n",
       "  <thead>\n",
       "    <tr style=\"text-align: right;\">\n",
       "      <th></th>\n",
       "      <th>neighbourhood</th>\n",
       "      <th>Number Entire Home/Apt</th>\n",
       "      <th>Ratio Entire Home/Apt</th>\n",
       "      <th>Number Private Room</th>\n",
       "      <th>Ratio Private Room</th>\n",
       "    </tr>\n",
       "  </thead>\n",
       "  <tbody>\n",
       "    <tr>\n",
       "      <th>0</th>\n",
       "      <td>Maxvorstadt</td>\n",
       "      <td>241</td>\n",
       "      <td>64.61%</td>\n",
       "      <td>132</td>\n",
       "      <td>35.39%</td>\n",
       "    </tr>\n",
       "    <tr>\n",
       "      <th>1</th>\n",
       "      <td>Altstadt-Lehel</td>\n",
       "      <td>99</td>\n",
       "      <td>62.66%</td>\n",
       "      <td>59</td>\n",
       "      <td>37.34%</td>\n",
       "    </tr>\n",
       "    <tr>\n",
       "      <th>2</th>\n",
       "      <td>Schwabing-West</td>\n",
       "      <td>188</td>\n",
       "      <td>58.93%</td>\n",
       "      <td>131</td>\n",
       "      <td>41.07%</td>\n",
       "    </tr>\n",
       "    <tr>\n",
       "      <th>3</th>\n",
       "      <td>Untergiesing-Harlaching</td>\n",
       "      <td>69</td>\n",
       "      <td>58.47%</td>\n",
       "      <td>49</td>\n",
       "      <td>41.53%</td>\n",
       "    </tr>\n",
       "    <tr>\n",
       "      <th>4</th>\n",
       "      <td>Ludwigsvorstadt-Isarvorstadt</td>\n",
       "      <td>286</td>\n",
       "      <td>57.89%</td>\n",
       "      <td>208</td>\n",
       "      <td>42.11%</td>\n",
       "    </tr>\n",
       "    <tr>\n",
       "      <th>5</th>\n",
       "      <td>Bogenhausen</td>\n",
       "      <td>134</td>\n",
       "      <td>57.26%</td>\n",
       "      <td>100</td>\n",
       "      <td>42.74%</td>\n",
       "    </tr>\n",
       "    <tr>\n",
       "      <th>6</th>\n",
       "      <td>Au-Haidhausen</td>\n",
       "      <td>148</td>\n",
       "      <td>57.14%</td>\n",
       "      <td>111</td>\n",
       "      <td>42.86%</td>\n",
       "    </tr>\n",
       "    <tr>\n",
       "      <th>7</th>\n",
       "      <td>Ramersdorf-Perlach</td>\n",
       "      <td>106</td>\n",
       "      <td>56.08%</td>\n",
       "      <td>83</td>\n",
       "      <td>43.92%</td>\n",
       "    </tr>\n",
       "    <tr>\n",
       "      <th>8</th>\n",
       "      <td>Neuhausen-Nymphenburg</td>\n",
       "      <td>143</td>\n",
       "      <td>55.64%</td>\n",
       "      <td>114</td>\n",
       "      <td>44.36%</td>\n",
       "    </tr>\n",
       "    <tr>\n",
       "      <th>9</th>\n",
       "      <td>Moosach</td>\n",
       "      <td>56</td>\n",
       "      <td>54.90%</td>\n",
       "      <td>46</td>\n",
       "      <td>45.10%</td>\n",
       "    </tr>\n",
       "    <tr>\n",
       "      <th>10</th>\n",
       "      <td>Milbertshofen-Am Hart</td>\n",
       "      <td>87</td>\n",
       "      <td>54.37%</td>\n",
       "      <td>73</td>\n",
       "      <td>45.62%</td>\n",
       "    </tr>\n",
       "    <tr>\n",
       "      <th>11</th>\n",
       "      <td>Sendling</td>\n",
       "      <td>85</td>\n",
       "      <td>53.80%</td>\n",
       "      <td>73</td>\n",
       "      <td>46.20%</td>\n",
       "    </tr>\n",
       "    <tr>\n",
       "      <th>12</th>\n",
       "      <td>Obergiesing</td>\n",
       "      <td>85</td>\n",
       "      <td>52.47%</td>\n",
       "      <td>77</td>\n",
       "      <td>47.53%</td>\n",
       "    </tr>\n",
       "    <tr>\n",
       "      <th>13</th>\n",
       "      <td>Schwanthalerhöhe</td>\n",
       "      <td>77</td>\n",
       "      <td>52.03%</td>\n",
       "      <td>71</td>\n",
       "      <td>47.97%</td>\n",
       "    </tr>\n",
       "    <tr>\n",
       "      <th>14</th>\n",
       "      <td>Berg am Laim</td>\n",
       "      <td>47</td>\n",
       "      <td>50.54%</td>\n",
       "      <td>46</td>\n",
       "      <td>49.46%</td>\n",
       "    </tr>\n",
       "    <tr>\n",
       "      <th>15</th>\n",
       "      <td>Thalkirchen-Obersendling-Forstenried-Fürstenri...</td>\n",
       "      <td>96</td>\n",
       "      <td>50.26%</td>\n",
       "      <td>95</td>\n",
       "      <td>49.74%</td>\n",
       "    </tr>\n",
       "    <tr>\n",
       "      <th>16</th>\n",
       "      <td>Schwabing-Freimann</td>\n",
       "      <td>146</td>\n",
       "      <td>49.83%</td>\n",
       "      <td>147</td>\n",
       "      <td>50.17%</td>\n",
       "    </tr>\n",
       "    <tr>\n",
       "      <th>17</th>\n",
       "      <td>Sendling-Westpark</td>\n",
       "      <td>85</td>\n",
       "      <td>49.71%</td>\n",
       "      <td>86</td>\n",
       "      <td>50.29%</td>\n",
       "    </tr>\n",
       "    <tr>\n",
       "      <th>18</th>\n",
       "      <td>Tudering-Riem</td>\n",
       "      <td>84</td>\n",
       "      <td>46.93%</td>\n",
       "      <td>95</td>\n",
       "      <td>53.07%</td>\n",
       "    </tr>\n",
       "    <tr>\n",
       "      <th>19</th>\n",
       "      <td>Feldmoching-Hasenbergl</td>\n",
       "      <td>28</td>\n",
       "      <td>45.90%</td>\n",
       "      <td>33</td>\n",
       "      <td>54.10%</td>\n",
       "    </tr>\n",
       "    <tr>\n",
       "      <th>20</th>\n",
       "      <td>Laim</td>\n",
       "      <td>66</td>\n",
       "      <td>45.83%</td>\n",
       "      <td>78</td>\n",
       "      <td>54.17%</td>\n",
       "    </tr>\n",
       "    <tr>\n",
       "      <th>21</th>\n",
       "      <td>Hadern</td>\n",
       "      <td>23</td>\n",
       "      <td>43.40%</td>\n",
       "      <td>30</td>\n",
       "      <td>56.60%</td>\n",
       "    </tr>\n",
       "    <tr>\n",
       "      <th>22</th>\n",
       "      <td>Allach-Untermenzing</td>\n",
       "      <td>16</td>\n",
       "      <td>43.24%</td>\n",
       "      <td>21</td>\n",
       "      <td>56.76%</td>\n",
       "    </tr>\n",
       "    <tr>\n",
       "      <th>23</th>\n",
       "      <td>Pasing-Obermenzing</td>\n",
       "      <td>50</td>\n",
       "      <td>43.10%</td>\n",
       "      <td>66</td>\n",
       "      <td>56.90%</td>\n",
       "    </tr>\n",
       "    <tr>\n",
       "      <th>24</th>\n",
       "      <td>Aubing-Lochhausen-Langwied</td>\n",
       "      <td>17</td>\n",
       "      <td>39.53%</td>\n",
       "      <td>26</td>\n",
       "      <td>60.47%</td>\n",
       "    </tr>\n",
       "  </tbody>\n",
       "</table>\n",
       "</div>"
      ],
      "text/plain": [
       "                                        neighbourhood  Number Entire Home/Apt  \\\n",
       "0                                         Maxvorstadt                     241   \n",
       "1                                      Altstadt-Lehel                      99   \n",
       "2                                      Schwabing-West                     188   \n",
       "3                             Untergiesing-Harlaching                      69   \n",
       "4                        Ludwigsvorstadt-Isarvorstadt                     286   \n",
       "5                                         Bogenhausen                     134   \n",
       "6                                       Au-Haidhausen                     148   \n",
       "7                                  Ramersdorf-Perlach                     106   \n",
       "8                               Neuhausen-Nymphenburg                     143   \n",
       "9                                             Moosach                      56   \n",
       "10                              Milbertshofen-Am Hart                      87   \n",
       "11                                           Sendling                      85   \n",
       "12                                        Obergiesing                      85   \n",
       "13                                   Schwanthalerhöhe                      77   \n",
       "14                                       Berg am Laim                      47   \n",
       "15  Thalkirchen-Obersendling-Forstenried-Fürstenri...                      96   \n",
       "16                                 Schwabing-Freimann                     146   \n",
       "17                                  Sendling-Westpark                      85   \n",
       "18                                      Tudering-Riem                      84   \n",
       "19                             Feldmoching-Hasenbergl                      28   \n",
       "20                                               Laim                      66   \n",
       "21                                             Hadern                      23   \n",
       "22                                Allach-Untermenzing                      16   \n",
       "23                                 Pasing-Obermenzing                      50   \n",
       "24                         Aubing-Lochhausen-Langwied                      17   \n",
       "\n",
       "   Ratio Entire Home/Apt  Number Private Room Ratio Private Room  \n",
       "0                 64.61%                  132             35.39%  \n",
       "1                 62.66%                   59             37.34%  \n",
       "2                 58.93%                  131             41.07%  \n",
       "3                 58.47%                   49             41.53%  \n",
       "4                 57.89%                  208             42.11%  \n",
       "5                 57.26%                  100             42.74%  \n",
       "6                 57.14%                  111             42.86%  \n",
       "7                 56.08%                   83             43.92%  \n",
       "8                 55.64%                  114             44.36%  \n",
       "9                 54.90%                   46             45.10%  \n",
       "10                54.37%                   73             45.62%  \n",
       "11                53.80%                   73             46.20%  \n",
       "12                52.47%                   77             47.53%  \n",
       "13                52.03%                   71             47.97%  \n",
       "14                50.54%                   46             49.46%  \n",
       "15                50.26%                   95             49.74%  \n",
       "16                49.83%                  147             50.17%  \n",
       "17                49.71%                   86             50.29%  \n",
       "18                46.93%                   95             53.07%  \n",
       "19                45.90%                   33             54.10%  \n",
       "20                45.83%                   78             54.17%  \n",
       "21                43.40%                   30             56.60%  \n",
       "22                43.24%                   21             56.76%  \n",
       "23                43.10%                   66             56.90%  \n",
       "24                39.53%                   26             60.47%  "
      ]
     },
     "execution_count": 17,
     "metadata": {},
     "output_type": "execute_result"
    }
   ],
   "source": [
    "entire_home_number = df.groupby('neighbourhood')['room_type'].apply(lambda x: \\\n",
    "                               (x == 'Entire home/apt').sum()).reset_index(name = 'Number Entire Home/Apt')\n",
    "entire_home_ratio = df.groupby('neighbourhood')['room_type'].apply(lambda x: \\\n",
    "                              (x == 'Entire home/apt').sum() / ((x == 'Private room').sum() + ( x== 'Entire home/apt').sum()) * 100) \\\n",
    "                               .apply('{:.2f}''%'.format).reset_index(name = 'Ratio Entire Home/Apt')\n",
    "\n",
    "private_room_number = df.groupby('neighbourhood')['room_type'].apply(lambda x: \\\n",
    "                               (x == 'Private room').sum()).reset_index(name = 'Number Private Room')\n",
    "private_room_ratio = df.groupby('neighbourhood')['room_type'].apply(lambda x: \\\n",
    "                              (x == 'Private room').sum() / ((x == 'Private room').sum() + ( x== 'Entire home/apt').sum()) * 100) \\\n",
    "                               .apply('{:.2f}''%'.format).reset_index(name = 'Ratio Private Room')\n",
    "\n",
    "merge_dfs = [entire_home_number, entire_home_ratio, private_room_number, private_room_ratio]\n",
    "\n",
    "neighbourhood = reduce(lambda left_df, right_df: pd.merge(left_df, right_df, on = ['neighbourhood'], \\\n",
    "                                                         how = 'outer'), merge_dfs).sort_values(by = 'Ratio Entire Home/Apt', ascending = False) \\\n",
    "                                                         .reset_index(drop = True)\n",
    "\n",
    "neighbourhood"
   ]
  },
  {
   "cell_type": "markdown",
   "id": "christian-dover",
   "metadata": {},
   "source": [
    "Below you can see the neighbourhoods where the proportion of property type *'Entire home/apt'* is higher, so if the Airbnb user wants to stay in one of the neighbourhoods listed below, there is a greater chance that this user will find offers of this type property available."
   ]
  },
  {
   "cell_type": "code",
   "execution_count": 18,
   "id": "buried-donna",
   "metadata": {
    "ExecuteTime": {
     "end_time": "2021-02-10T13:31:59.429742Z",
     "start_time": "2021-02-10T13:31:59.412180Z"
    }
   },
   "outputs": [
    {
     "data": {
      "text/html": [
       "<div>\n",
       "<style scoped>\n",
       "    .dataframe tbody tr th:only-of-type {\n",
       "        vertical-align: middle;\n",
       "    }\n",
       "\n",
       "    .dataframe tbody tr th {\n",
       "        vertical-align: top;\n",
       "    }\n",
       "\n",
       "    .dataframe thead th {\n",
       "        text-align: right;\n",
       "    }\n",
       "</style>\n",
       "<table border=\"1\" class=\"dataframe\">\n",
       "  <thead>\n",
       "    <tr style=\"text-align: right;\">\n",
       "      <th></th>\n",
       "      <th>neighbourhood</th>\n",
       "      <th>Number Entire Home/Apt</th>\n",
       "      <th>Ratio Entire Home/Apt</th>\n",
       "      <th>Number Private Room</th>\n",
       "      <th>Ratio Private Room</th>\n",
       "    </tr>\n",
       "  </thead>\n",
       "  <tbody>\n",
       "    <tr>\n",
       "      <th>0</th>\n",
       "      <td>Maxvorstadt</td>\n",
       "      <td>241</td>\n",
       "      <td>64.61%</td>\n",
       "      <td>132</td>\n",
       "      <td>35.39%</td>\n",
       "    </tr>\n",
       "    <tr>\n",
       "      <th>1</th>\n",
       "      <td>Altstadt-Lehel</td>\n",
       "      <td>99</td>\n",
       "      <td>62.66%</td>\n",
       "      <td>59</td>\n",
       "      <td>37.34%</td>\n",
       "    </tr>\n",
       "    <tr>\n",
       "      <th>2</th>\n",
       "      <td>Schwabing-West</td>\n",
       "      <td>188</td>\n",
       "      <td>58.93%</td>\n",
       "      <td>131</td>\n",
       "      <td>41.07%</td>\n",
       "    </tr>\n",
       "    <tr>\n",
       "      <th>3</th>\n",
       "      <td>Untergiesing-Harlaching</td>\n",
       "      <td>69</td>\n",
       "      <td>58.47%</td>\n",
       "      <td>49</td>\n",
       "      <td>41.53%</td>\n",
       "    </tr>\n",
       "    <tr>\n",
       "      <th>4</th>\n",
       "      <td>Ludwigsvorstadt-Isarvorstadt</td>\n",
       "      <td>286</td>\n",
       "      <td>57.89%</td>\n",
       "      <td>208</td>\n",
       "      <td>42.11%</td>\n",
       "    </tr>\n",
       "  </tbody>\n",
       "</table>\n",
       "</div>"
      ],
      "text/plain": [
       "                  neighbourhood  Number Entire Home/Apt Ratio Entire Home/Apt  \\\n",
       "0                   Maxvorstadt                     241                64.61%   \n",
       "1                Altstadt-Lehel                      99                62.66%   \n",
       "2                Schwabing-West                     188                58.93%   \n",
       "3       Untergiesing-Harlaching                      69                58.47%   \n",
       "4  Ludwigsvorstadt-Isarvorstadt                     286                57.89%   \n",
       "\n",
       "   Number Private Room Ratio Private Room  \n",
       "0                  132             35.39%  \n",
       "1                   59             37.34%  \n",
       "2                  131             41.07%  \n",
       "3                   49             41.53%  \n",
       "4                  208             42.11%  "
      ]
     },
     "execution_count": 18,
     "metadata": {},
     "output_type": "execute_result"
    }
   ],
   "source": [
    "neighbourhood.iloc[0:5]"
   ]
  },
  {
   "cell_type": "markdown",
   "id": "fresh-seminar",
   "metadata": {},
   "source": [
    "Now, you can see the neighbourhoods where the proportion of property type *'Private room'* is higher, so if the Airbnb user wants to stay in one of the neighbourhoods listed below, there is a greater chance that this user will find offers for this type of property available."
   ]
  },
  {
   "cell_type": "code",
   "execution_count": 19,
   "id": "upper-pipeline",
   "metadata": {
    "ExecuteTime": {
     "end_time": "2021-02-10T13:32:00.894837Z",
     "start_time": "2021-02-10T13:32:00.876186Z"
    }
   },
   "outputs": [
    {
     "data": {
      "text/html": [
       "<div>\n",
       "<style scoped>\n",
       "    .dataframe tbody tr th:only-of-type {\n",
       "        vertical-align: middle;\n",
       "    }\n",
       "\n",
       "    .dataframe tbody tr th {\n",
       "        vertical-align: top;\n",
       "    }\n",
       "\n",
       "    .dataframe thead th {\n",
       "        text-align: right;\n",
       "    }\n",
       "</style>\n",
       "<table border=\"1\" class=\"dataframe\">\n",
       "  <thead>\n",
       "    <tr style=\"text-align: right;\">\n",
       "      <th></th>\n",
       "      <th>neighbourhood</th>\n",
       "      <th>Number Entire Home/Apt</th>\n",
       "      <th>Ratio Entire Home/Apt</th>\n",
       "      <th>Number Private Room</th>\n",
       "      <th>Ratio Private Room</th>\n",
       "    </tr>\n",
       "  </thead>\n",
       "  <tbody>\n",
       "    <tr>\n",
       "      <th>20</th>\n",
       "      <td>Laim</td>\n",
       "      <td>66</td>\n",
       "      <td>45.83%</td>\n",
       "      <td>78</td>\n",
       "      <td>54.17%</td>\n",
       "    </tr>\n",
       "    <tr>\n",
       "      <th>21</th>\n",
       "      <td>Hadern</td>\n",
       "      <td>23</td>\n",
       "      <td>43.40%</td>\n",
       "      <td>30</td>\n",
       "      <td>56.60%</td>\n",
       "    </tr>\n",
       "    <tr>\n",
       "      <th>22</th>\n",
       "      <td>Allach-Untermenzing</td>\n",
       "      <td>16</td>\n",
       "      <td>43.24%</td>\n",
       "      <td>21</td>\n",
       "      <td>56.76%</td>\n",
       "    </tr>\n",
       "    <tr>\n",
       "      <th>23</th>\n",
       "      <td>Pasing-Obermenzing</td>\n",
       "      <td>50</td>\n",
       "      <td>43.10%</td>\n",
       "      <td>66</td>\n",
       "      <td>56.90%</td>\n",
       "    </tr>\n",
       "    <tr>\n",
       "      <th>24</th>\n",
       "      <td>Aubing-Lochhausen-Langwied</td>\n",
       "      <td>17</td>\n",
       "      <td>39.53%</td>\n",
       "      <td>26</td>\n",
       "      <td>60.47%</td>\n",
       "    </tr>\n",
       "  </tbody>\n",
       "</table>\n",
       "</div>"
      ],
      "text/plain": [
       "                 neighbourhood  Number Entire Home/Apt Ratio Entire Home/Apt  \\\n",
       "20                        Laim                      66                45.83%   \n",
       "21                      Hadern                      23                43.40%   \n",
       "22         Allach-Untermenzing                      16                43.24%   \n",
       "23          Pasing-Obermenzing                      50                43.10%   \n",
       "24  Aubing-Lochhausen-Langwied                      17                39.53%   \n",
       "\n",
       "    Number Private Room Ratio Private Room  \n",
       "20                   78             54.17%  \n",
       "21                   30             56.60%  \n",
       "22                   21             56.76%  \n",
       "23                   66             56.90%  \n",
       "24                   26             60.47%  "
      ]
     },
     "execution_count": 19,
     "metadata": {},
     "output_type": "execute_result"
    }
   ],
   "source": [
    "neighbourhood.iloc[-5:]"
   ]
  },
  {
   "cell_type": "markdown",
   "id": "lyric-snapshot",
   "metadata": {},
   "source": [
    "### Q2 -  What is the average property price in the different neighbourhoods of Munich?\n"
   ]
  },
  {
   "cell_type": "markdown",
   "id": "popular-football",
   "metadata": {},
   "source": [
    "It has already been seen in the summary statistics that the average property price in Munich is **€ 105.23**. Below is the average property price per neighbourhood in Munich. We can see that there is a big price difference, where the average price in the **most expensive neighbourhood is € 149.36 and in the cheapest neighbourhood is 74.94**."
   ]
  },
  {
   "cell_type": "code",
   "execution_count": 20,
   "id": "crude-hanging",
   "metadata": {
    "ExecuteTime": {
     "end_time": "2021-02-10T13:32:02.672429Z",
     "start_time": "2021-02-10T13:32:02.639451Z"
    }
   },
   "outputs": [
    {
     "data": {
      "text/html": [
       "<div>\n",
       "<style scoped>\n",
       "    .dataframe tbody tr th:only-of-type {\n",
       "        vertical-align: middle;\n",
       "    }\n",
       "\n",
       "    .dataframe tbody tr th {\n",
       "        vertical-align: top;\n",
       "    }\n",
       "\n",
       "    .dataframe thead th {\n",
       "        text-align: right;\n",
       "    }\n",
       "</style>\n",
       "<table border=\"1\" class=\"dataframe\">\n",
       "  <thead>\n",
       "    <tr style=\"text-align: right;\">\n",
       "      <th></th>\n",
       "      <th>neighbourhood</th>\n",
       "      <th>price</th>\n",
       "    </tr>\n",
       "  </thead>\n",
       "  <tbody>\n",
       "    <tr>\n",
       "      <th>0</th>\n",
       "      <td>Ludwigsvorstadt-Isarvorstadt</td>\n",
       "      <td>149.364341</td>\n",
       "    </tr>\n",
       "    <tr>\n",
       "      <th>1</th>\n",
       "      <td>Altstadt-Lehel</td>\n",
       "      <td>146.521739</td>\n",
       "    </tr>\n",
       "    <tr>\n",
       "      <th>2</th>\n",
       "      <td>Schwanthalerhöhe</td>\n",
       "      <td>128.727273</td>\n",
       "    </tr>\n",
       "    <tr>\n",
       "      <th>3</th>\n",
       "      <td>Sendling</td>\n",
       "      <td>118.685535</td>\n",
       "    </tr>\n",
       "    <tr>\n",
       "      <th>4</th>\n",
       "      <td>Feldmoching-Hasenbergl</td>\n",
       "      <td>111.109375</td>\n",
       "    </tr>\n",
       "    <tr>\n",
       "      <th>5</th>\n",
       "      <td>Maxvorstadt</td>\n",
       "      <td>107.625330</td>\n",
       "    </tr>\n",
       "    <tr>\n",
       "      <th>6</th>\n",
       "      <td>Tudering-Riem</td>\n",
       "      <td>104.181818</td>\n",
       "    </tr>\n",
       "    <tr>\n",
       "      <th>7</th>\n",
       "      <td>Au-Haidhausen</td>\n",
       "      <td>103.609489</td>\n",
       "    </tr>\n",
       "    <tr>\n",
       "      <th>8</th>\n",
       "      <td>Sendling-Westpark</td>\n",
       "      <td>100.971264</td>\n",
       "    </tr>\n",
       "    <tr>\n",
       "      <th>9</th>\n",
       "      <td>Schwabing-West</td>\n",
       "      <td>99.962500</td>\n",
       "    </tr>\n",
       "    <tr>\n",
       "      <th>10</th>\n",
       "      <td>Berg am Laim</td>\n",
       "      <td>99.105263</td>\n",
       "    </tr>\n",
       "    <tr>\n",
       "      <th>11</th>\n",
       "      <td>Neuhausen-Nymphenburg</td>\n",
       "      <td>99.011278</td>\n",
       "    </tr>\n",
       "    <tr>\n",
       "      <th>12</th>\n",
       "      <td>Bogenhausen</td>\n",
       "      <td>98.161702</td>\n",
       "    </tr>\n",
       "    <tr>\n",
       "      <th>13</th>\n",
       "      <td>Obergiesing</td>\n",
       "      <td>95.760736</td>\n",
       "    </tr>\n",
       "    <tr>\n",
       "      <th>14</th>\n",
       "      <td>Schwabing-Freimann</td>\n",
       "      <td>95.753289</td>\n",
       "    </tr>\n",
       "    <tr>\n",
       "      <th>15</th>\n",
       "      <td>Laim</td>\n",
       "      <td>95.700680</td>\n",
       "    </tr>\n",
       "    <tr>\n",
       "      <th>16</th>\n",
       "      <td>Pasing-Obermenzing</td>\n",
       "      <td>91.747899</td>\n",
       "    </tr>\n",
       "    <tr>\n",
       "      <th>17</th>\n",
       "      <td>Untergiesing-Harlaching</td>\n",
       "      <td>87.050000</td>\n",
       "    </tr>\n",
       "    <tr>\n",
       "      <th>18</th>\n",
       "      <td>Aubing-Lochhausen-Langwied</td>\n",
       "      <td>86.697674</td>\n",
       "    </tr>\n",
       "    <tr>\n",
       "      <th>19</th>\n",
       "      <td>Allach-Untermenzing</td>\n",
       "      <td>83.073171</td>\n",
       "    </tr>\n",
       "    <tr>\n",
       "      <th>20</th>\n",
       "      <td>Thalkirchen-Obersendling-Forstenried-Fürstenri...</td>\n",
       "      <td>82.795918</td>\n",
       "    </tr>\n",
       "    <tr>\n",
       "      <th>21</th>\n",
       "      <td>Ramersdorf-Perlach</td>\n",
       "      <td>82.055838</td>\n",
       "    </tr>\n",
       "    <tr>\n",
       "      <th>22</th>\n",
       "      <td>Hadern</td>\n",
       "      <td>80.909091</td>\n",
       "    </tr>\n",
       "    <tr>\n",
       "      <th>23</th>\n",
       "      <td>Milbertshofen-Am Hart</td>\n",
       "      <td>78.583815</td>\n",
       "    </tr>\n",
       "    <tr>\n",
       "      <th>24</th>\n",
       "      <td>Moosach</td>\n",
       "      <td>74.944444</td>\n",
       "    </tr>\n",
       "  </tbody>\n",
       "</table>\n",
       "</div>"
      ],
      "text/plain": [
       "                                        neighbourhood       price\n",
       "0                        Ludwigsvorstadt-Isarvorstadt  149.364341\n",
       "1                                      Altstadt-Lehel  146.521739\n",
       "2                                    Schwanthalerhöhe  128.727273\n",
       "3                                            Sendling  118.685535\n",
       "4                              Feldmoching-Hasenbergl  111.109375\n",
       "5                                         Maxvorstadt  107.625330\n",
       "6                                       Tudering-Riem  104.181818\n",
       "7                                       Au-Haidhausen  103.609489\n",
       "8                                   Sendling-Westpark  100.971264\n",
       "9                                      Schwabing-West   99.962500\n",
       "10                                       Berg am Laim   99.105263\n",
       "11                              Neuhausen-Nymphenburg   99.011278\n",
       "12                                        Bogenhausen   98.161702\n",
       "13                                        Obergiesing   95.760736\n",
       "14                                 Schwabing-Freimann   95.753289\n",
       "15                                               Laim   95.700680\n",
       "16                                 Pasing-Obermenzing   91.747899\n",
       "17                            Untergiesing-Harlaching   87.050000\n",
       "18                         Aubing-Lochhausen-Langwied   86.697674\n",
       "19                                Allach-Untermenzing   83.073171\n",
       "20  Thalkirchen-Obersendling-Forstenried-Fürstenri...   82.795918\n",
       "21                                 Ramersdorf-Perlach   82.055838\n",
       "22                                             Hadern   80.909091\n",
       "23                              Milbertshofen-Am Hart   78.583815\n",
       "24                                            Moosach   74.944444"
      ]
     },
     "execution_count": 20,
     "metadata": {},
     "output_type": "execute_result"
    }
   ],
   "source": [
    "mean_region = pd.DataFrame(df.groupby('neighbourhood')['price'].mean().sort_values(ascending = False).reset_index())\n",
    "\n",
    "mean_region"
   ]
  },
  {
   "cell_type": "markdown",
   "id": "demonstrated-russia",
   "metadata": {},
   "source": [
    "To continue this analysis, I will extract the 2 most expensive and cheapest neighbourhoods in Munich concerning the average price of all properties."
   ]
  },
  {
   "cell_type": "code",
   "execution_count": 21,
   "id": "abstract-interference",
   "metadata": {
    "ExecuteTime": {
     "end_time": "2021-02-10T13:32:03.837959Z",
     "start_time": "2021-02-10T13:32:03.824801Z"
    }
   },
   "outputs": [
    {
     "data": {
      "text/html": [
       "<div>\n",
       "<style scoped>\n",
       "    .dataframe tbody tr th:only-of-type {\n",
       "        vertical-align: middle;\n",
       "    }\n",
       "\n",
       "    .dataframe tbody tr th {\n",
       "        vertical-align: top;\n",
       "    }\n",
       "\n",
       "    .dataframe thead th {\n",
       "        text-align: right;\n",
       "    }\n",
       "</style>\n",
       "<table border=\"1\" class=\"dataframe\">\n",
       "  <thead>\n",
       "    <tr style=\"text-align: right;\">\n",
       "      <th></th>\n",
       "      <th>neighbourhood</th>\n",
       "      <th>price</th>\n",
       "    </tr>\n",
       "  </thead>\n",
       "  <tbody>\n",
       "    <tr>\n",
       "      <th>0</th>\n",
       "      <td>Ludwigsvorstadt-Isarvorstadt</td>\n",
       "      <td>149.364341</td>\n",
       "    </tr>\n",
       "    <tr>\n",
       "      <th>1</th>\n",
       "      <td>Altstadt-Lehel</td>\n",
       "      <td>146.521739</td>\n",
       "    </tr>\n",
       "    <tr>\n",
       "      <th>23</th>\n",
       "      <td>Milbertshofen-Am Hart</td>\n",
       "      <td>78.583815</td>\n",
       "    </tr>\n",
       "    <tr>\n",
       "      <th>24</th>\n",
       "      <td>Moosach</td>\n",
       "      <td>74.944444</td>\n",
       "    </tr>\n",
       "  </tbody>\n",
       "</table>\n",
       "</div>"
      ],
      "text/plain": [
       "                   neighbourhood       price\n",
       "0   Ludwigsvorstadt-Isarvorstadt  149.364341\n",
       "1                 Altstadt-Lehel  146.521739\n",
       "23         Milbertshofen-Am Hart   78.583815\n",
       "24                       Moosach   74.944444"
      ]
     },
     "execution_count": 21,
     "metadata": {},
     "output_type": "execute_result"
    }
   ],
   "source": [
    "mean_region.iloc[[0,1,-2,-1]]"
   ]
  },
  {
   "cell_type": "markdown",
   "id": "electrical-durham",
   "metadata": {},
   "source": [
    "### Q3 - How are property prices distributed in the 2 most expensive neighbourhoods?"
   ]
  },
  {
   "cell_type": "markdown",
   "id": "fleet-paragraph",
   "metadata": {},
   "source": [
    "When analyzing the price per property type in the two most expensive neighbourhoods of Munich concerning the average price, we shall observe that:\n",
    "\n",
    "**Ludwigsvorstadt-Isarvorstadt**\n",
    "\n",
    "1. ***'Entire room/apt'***\n",
    "    * The average price is far from the median (159.98 x 110.00 respectively), which indicates the presence of outliers.\n",
    "    * It is possible to rent a property of this type in this neighbourhood for **€ 30.00**.\n",
    "    \n",
    "    \n",
    "2. ***'Private room'***\n",
    "    * The average price is far from the median (131.86 x 76.50 respectively), which indicates the presence of outliers.\n",
    "    * It is possible to rent a property of this type in this neighbourhood for **€ 25.00**.\n",
    "\n",
    "---\n",
    "    \n",
    "**Altstadt-Lehel**\n",
    "\n",
    "1. ***'Entire room/apt'***\n",
    "    * The average price is far from the median (173.19 x 145.00 respectively), which indicates the presence of outliers.\n",
    "    * It is possible to rent a property of this type in this neighbourhood for **€ 10.00**.\n",
    "    \n",
    "    \n",
    "2. ***'Private room'***\n",
    "    * The average price is far from the median (104.91 x 80.00 respectively), which indicates the presence of outliers.\n",
    "    * It is possible to rent a property of this type in this neighbourhood for **€ 35.00**."
   ]
  },
  {
   "cell_type": "code",
   "execution_count": 22,
   "id": "affecting-settlement",
   "metadata": {
    "ExecuteTime": {
     "end_time": "2021-02-10T13:32:05.739128Z",
     "start_time": "2021-02-10T13:32:05.544672Z"
    }
   },
   "outputs": [
    {
     "data": {
      "text/html": [
       "<div>\n",
       "<style scoped>\n",
       "    .dataframe tbody tr th:only-of-type {\n",
       "        vertical-align: middle;\n",
       "    }\n",
       "\n",
       "    .dataframe tbody tr th {\n",
       "        vertical-align: top;\n",
       "    }\n",
       "\n",
       "    .dataframe thead tr th {\n",
       "        text-align: left;\n",
       "    }\n",
       "</style>\n",
       "<table border=\"1\" class=\"dataframe\">\n",
       "  <thead>\n",
       "    <tr>\n",
       "      <th></th>\n",
       "      <th colspan=\"2\" halign=\"left\">Ludwigsvorstadt-Isarvorstadt</th>\n",
       "      <th colspan=\"2\" halign=\"left\">Altstadt-Lehel</th>\n",
       "    </tr>\n",
       "    <tr>\n",
       "      <th></th>\n",
       "      <th>Entire home/apt</th>\n",
       "      <th>Private room</th>\n",
       "      <th>Entire home/apt</th>\n",
       "      <th>Private room</th>\n",
       "    </tr>\n",
       "  </thead>\n",
       "  <tbody>\n",
       "    <tr>\n",
       "      <th>count</th>\n",
       "      <td>286.000000</td>\n",
       "      <td>208.000000</td>\n",
       "      <td>99.000000</td>\n",
       "      <td>59.000000</td>\n",
       "    </tr>\n",
       "    <tr>\n",
       "      <th>mean</th>\n",
       "      <td>159.982517</td>\n",
       "      <td>131.860577</td>\n",
       "      <td>173.191919</td>\n",
       "      <td>104.915254</td>\n",
       "    </tr>\n",
       "    <tr>\n",
       "      <th>median</th>\n",
       "      <td>110.000000</td>\n",
       "      <td>77.500000</td>\n",
       "      <td>145.000000</td>\n",
       "      <td>80.000000</td>\n",
       "    </tr>\n",
       "    <tr>\n",
       "      <th>min</th>\n",
       "      <td>30.000000</td>\n",
       "      <td>25.000000</td>\n",
       "      <td>10.000000</td>\n",
       "      <td>35.000000</td>\n",
       "    </tr>\n",
       "    <tr>\n",
       "      <th>max</th>\n",
       "      <td>988.000000</td>\n",
       "      <td>947.000000</td>\n",
       "      <td>999.000000</td>\n",
       "      <td>359.000000</td>\n",
       "    </tr>\n",
       "    <tr>\n",
       "      <th>range</th>\n",
       "      <td>958.000000</td>\n",
       "      <td>922.000000</td>\n",
       "      <td>989.000000</td>\n",
       "      <td>324.000000</td>\n",
       "    </tr>\n",
       "  </tbody>\n",
       "</table>\n",
       "</div>"
      ],
      "text/plain": [
       "       Ludwigsvorstadt-Isarvorstadt               Altstadt-Lehel             \n",
       "                    Entire home/apt Private room Entire home/apt Private room\n",
       "count                    286.000000   208.000000       99.000000    59.000000\n",
       "mean                     159.982517   131.860577      173.191919   104.915254\n",
       "median                   110.000000    77.500000      145.000000    80.000000\n",
       "min                       30.000000    25.000000       10.000000    35.000000\n",
       "max                      988.000000   947.000000      999.000000   359.000000\n",
       "range                    958.000000   922.000000      989.000000   324.000000"
      ]
     },
     "execution_count": 22,
     "metadata": {},
     "output_type": "execute_result"
    }
   ],
   "source": [
    "neighbourhood_analysis = [df['neighbourhood'].unique()[10], df['neighbourhood'].unique()[20]]\n",
    "\n",
    "room_analysis = [df['room_type'].unique()[0], df['room_type'].unique()[1]]\n",
    "\n",
    "dict_neighbourhood_analysis = {'count':[],\n",
    "                               'mean':[],\n",
    "                               'median':[],\n",
    "                               'min':[],\n",
    "                               'max':[],\n",
    "                               'range':[]}\n",
    "\n",
    "\n",
    "count = []\n",
    "average = []\n",
    "median = []\n",
    "minimum = []\n",
    "maximum = []\n",
    "difference = []\n",
    "    \n",
    "for neighbourhood in neighbourhood_analysis:\n",
    "\n",
    "   \n",
    "    for room in room_analysis:\n",
    "       \n",
    "        for i in list([0, 1, 3, 5, 7]):\n",
    "           \n",
    "            if i == 0:\n",
    "                value_count = df['price'].loc[(df['neighbourhood'] == neighbourhood) & (df['room_type'] == room)].describe()[i]\n",
    "                count.append(value_count)\n",
    "            elif i == 1:\n",
    "                value_average = df['price'].loc[(df['neighbourhood'] == neighbourhood) & (df['room_type'] == room)].describe()[i]\n",
    "                average.append(value_average)\n",
    "            elif i == 3:\n",
    "                value_minimum = df['price'].loc[(df['neighbourhood'] == neighbourhood) & (df['room_type'] == room)].describe()[i]\n",
    "                minimum.append(value_minimum)\n",
    "            elif i == 5:\n",
    "                value_median = df['price'].loc[(df['neighbourhood'] == neighbourhood) & (df['room_type'] == room)].describe()[i]\n",
    "                median.append(value_median)\n",
    "            else:\n",
    "                value_maximum = df['price'].loc[(df['neighbourhood'] == neighbourhood) & (df['room_type'] == room)].describe()[i]\n",
    "                maximum.append(value_maximum)\n",
    "                \n",
    "                value_difference = value_maximum - value_minimum\n",
    "                difference.append(value_difference)\n",
    "        \n",
    "        \n",
    "        dict_neighbourhood_analysis['count'] = count\n",
    "        dict_neighbourhood_analysis['mean'] = average\n",
    "        dict_neighbourhood_analysis['median'] = median        \n",
    "        dict_neighbourhood_analysis['min'] = minimum\n",
    "        dict_neighbourhood_analysis['max'] = maximum\n",
    "        dict_neighbourhood_analysis['range'] = difference\n",
    "            \n",
    "            \n",
    "\n",
    "header = [\n",
    "            [\n",
    "                df['neighbourhood'].unique()[10], df['neighbourhood'].unique()[10],\n",
    "                df['neighbourhood'].unique()[20], df['neighbourhood'].unique()[20]\n",
    "            ],\n",
    "            [\n",
    "                df['room_type'].unique()[0], df['room_type'].unique()[1],\n",
    "                df['room_type'].unique()[0], df['room_type'].unique()[1] \n",
    "            ]\n",
    "         ]\n",
    "\n",
    "df_neighbourhood_analysis = pd.DataFrame(dict_neighbourhood_analysis.values(), index = dict_neighbourhood_analysis.keys(), columns = header)\n",
    "\n",
    "df_neighbourhood_analysis\n",
    "               \n",
    "    "
   ]
  },
  {
   "cell_type": "markdown",
   "id": "enabling-kidney",
   "metadata": {},
   "source": [
    "In order to have a better view of prices and confirmation of the presence of outliers, we will plot the boxplot again for properties in these neighbourhoods."
   ]
  },
  {
   "cell_type": "code",
   "execution_count": 23,
   "id": "vanilla-willow",
   "metadata": {
    "ExecuteTime": {
     "end_time": "2021-02-10T13:32:07.403858Z",
     "start_time": "2021-02-10T13:32:06.837009Z"
    }
   },
   "outputs": [
    {
     "data": {
      "image/png": "[encoded data removed]",
      "text/plain": [
       "<Figure size 1296x792 with 1 Axes>"
      ]
     },
     "metadata": {},
     "output_type": "display_data"
    }
   ],
   "source": [
    "ludwig_neigh = df[(df['room_type'] != 'Shared room') & (df['room_type'] != 'Hotel room') \\\n",
    "                & (df['neighbourhood'] == 'Ludwigsvorstadt-Isarvorstadt')]\n",
    "\n",
    "altstadt_neigh = df[(df['room_type'] != 'Shared room') & (df['room_type'] != 'Hotel room') \\\n",
    "                & (df['neighbourhood'] == 'Altstadt-Lehel')]\n",
    "\n",
    "exp_neigh = pd.concat([ludwig_neigh, altstadt_neigh]).reset_index(drop = True)\n",
    "\n",
    "exp_neigh\n",
    "\n",
    "sns.boxplot(x = 'room_type', y = 'price' , data = exp_neigh, hue = 'neighbourhood', width = 0.5)\n",
    "plt.legend(bbox_to_anchor=(1.05, 1), loc=2, borderaxespad=0.);"
   ]
  },
  {
   "cell_type": "markdown",
   "id": "under-discharge",
   "metadata": {},
   "source": [
    "Through the boxplot chart, the presence of outliers in the price of different property types in these neighbourhoods is clear. For this reason, it is better to consider the median price, as the median is not as sensitive to outlier values as the average.\n",
    "\n",
    "With that, we can conclude that:\n",
    "\n",
    "* The price of both property types is **higher in Altstadt-Lehel** than in Ludwigsvorstadt-Isarvorstadt when we start to consider the median as the base price.\n",
    "\n",
    "* Although Altstadt-Lehel is the most expensive location based on the median price for the *'Entire home/apt'* property type, it is possible to find this type of property for the lowest minimum price, **€ 10.00**.\n",
    "\n",
    "* It is possible to find *'Private room'* properties at minimum price lower **in Ludwigsvorstadt-Isarvorstadt** than in Altstadt-Lehel."
   ]
  },
  {
   "cell_type": "markdown",
   "id": "graphic-plastic",
   "metadata": {},
   "source": [
    "### Q4 - How are property prices distributed in the 2 cheapest neighbourhoods?"
   ]
  },
  {
   "cell_type": "markdown",
   "id": "legitimate-universe",
   "metadata": {},
   "source": [
    "When analyzing the price per property type in the two most expensive neighbourhoods of Munich concerning the average price, we shall observe that:\n",
    "\n",
    "**Moosach**\n",
    "\n",
    "1. ***'Entire room/apt'***\n",
    "\n",
    "    * The average price is far from the median (88.69 x 62.50 respectively), which indicates the presence of outliers.\n",
    "    \n",
    "    * It is possible to rent a property of this type in this neighbourhood for **€ 33.00**.\n",
    "\n",
    "\n",
    "2. ***'Private room'***\n",
    "    * The average price is far from the median (60.19 x 59.50 respectively), which indicates the presence of outliers.\n",
    "    \n",
    "    * It is possible to rent a property of this type in this neighbourhood for **€ 20.00**.\n",
    "\n",
    "\n",
    "---\n",
    "    \n",
    "**Milbertshofen-Am Hart**\n",
    "\n",
    "1. ***'Entire room/apt'***\n",
    "    * The average price is far from the median (93.89 x 69.00 respectively), which indicates the presence of outliers.\n",
    "    \n",
    "    * It is possible to rent a property of this type in this neighbourhood for **€ 16.00**.\n",
    "    \n",
    "    \n",
    "2. ***'Private room'***\n",
    "    * The average price is far from the median (61.19 x 50.00 respectively), which indicates the presence of outliers.\n",
    "    \n",
    "    * It is possible to rent a property of this type in this neighbourhood for **€ 23.00**."
   ]
  },
  {
   "cell_type": "code",
   "execution_count": 24,
   "id": "diverse-parking",
   "metadata": {
    "ExecuteTime": {
     "end_time": "2021-02-10T13:32:09.530421Z",
     "start_time": "2021-02-10T13:32:09.362105Z"
    }
   },
   "outputs": [
    {
     "data": {
      "text/html": [
       "<div>\n",
       "<style scoped>\n",
       "    .dataframe tbody tr th:only-of-type {\n",
       "        vertical-align: middle;\n",
       "    }\n",
       "\n",
       "    .dataframe tbody tr th {\n",
       "        vertical-align: top;\n",
       "    }\n",
       "\n",
       "    .dataframe thead tr th {\n",
       "        text-align: left;\n",
       "    }\n",
       "</style>\n",
       "<table border=\"1\" class=\"dataframe\">\n",
       "  <thead>\n",
       "    <tr>\n",
       "      <th></th>\n",
       "      <th colspan=\"2\" halign=\"left\">Milbertshofen-Am Hart</th>\n",
       "      <th colspan=\"2\" halign=\"left\">Moosach</th>\n",
       "    </tr>\n",
       "    <tr>\n",
       "      <th></th>\n",
       "      <th>Entire home/apt</th>\n",
       "      <th>Private room</th>\n",
       "      <th>Entire home/apt</th>\n",
       "      <th>Private room</th>\n",
       "    </tr>\n",
       "  </thead>\n",
       "  <tbody>\n",
       "    <tr>\n",
       "      <th>count</th>\n",
       "      <td>87.000000</td>\n",
       "      <td>73.000000</td>\n",
       "      <td>56.000000</td>\n",
       "      <td>46.000000</td>\n",
       "    </tr>\n",
       "    <tr>\n",
       "      <th>mean</th>\n",
       "      <td>93.896552</td>\n",
       "      <td>61.191781</td>\n",
       "      <td>88.696429</td>\n",
       "      <td>60.195652</td>\n",
       "    </tr>\n",
       "    <tr>\n",
       "      <th>median</th>\n",
       "      <td>69.000000</td>\n",
       "      <td>50.000000</td>\n",
       "      <td>62.500000</td>\n",
       "      <td>59.500000</td>\n",
       "    </tr>\n",
       "    <tr>\n",
       "      <th>min</th>\n",
       "      <td>16.000000</td>\n",
       "      <td>23.000000</td>\n",
       "      <td>33.000000</td>\n",
       "      <td>20.000000</td>\n",
       "    </tr>\n",
       "    <tr>\n",
       "      <th>max</th>\n",
       "      <td>500.000000</td>\n",
       "      <td>280.000000</td>\n",
       "      <td>499.000000</td>\n",
       "      <td>180.000000</td>\n",
       "    </tr>\n",
       "    <tr>\n",
       "      <th>range</th>\n",
       "      <td>484.000000</td>\n",
       "      <td>257.000000</td>\n",
       "      <td>466.000000</td>\n",
       "      <td>160.000000</td>\n",
       "    </tr>\n",
       "  </tbody>\n",
       "</table>\n",
       "</div>"
      ],
      "text/plain": [
       "       Milbertshofen-Am Hart                      Moosach             \n",
       "             Entire home/apt Private room Entire home/apt Private room\n",
       "count              87.000000    73.000000       56.000000    46.000000\n",
       "mean               93.896552    61.191781       88.696429    60.195652\n",
       "median             69.000000    50.000000       62.500000    59.500000\n",
       "min                16.000000    23.000000       33.000000    20.000000\n",
       "max               500.000000   280.000000      499.000000   180.000000\n",
       "range             484.000000   257.000000      466.000000   160.000000"
      ]
     },
     "execution_count": 24,
     "metadata": {},
     "output_type": "execute_result"
    }
   ],
   "source": [
    "neighbourhood_analysis2 = [df['neighbourhood'].unique()[17], df['neighbourhood'].unique()[24]]\n",
    "\n",
    "room_analysis = [df['room_type'].unique()[0], df['room_type'].unique()[1]]\n",
    "\n",
    "dict_neighbourhood_analysis2 = {'count':[],\n",
    "                               'mean':[],\n",
    "                               'median':[],\n",
    "                               'min':[],\n",
    "                               'max':[],\n",
    "                               'range':[]}\n",
    "\n",
    "\n",
    "count2 = []\n",
    "average2 = []\n",
    "median2 = []\n",
    "minimum2 = []\n",
    "maximum2 = []\n",
    "difference2 = []\n",
    "    \n",
    "for neighbourhood in neighbourhood_analysis2:\n",
    "\n",
    "   \n",
    "    for room in room_analysis:\n",
    "       \n",
    "        for i in list([0, 1, 3, 5, 7]):\n",
    "           \n",
    "            if i == 0:\n",
    "                value_count = df['price'].loc[(df['neighbourhood'] == neighbourhood) & (df['room_type'] == room)].describe()[i]\n",
    "                count2.append(value_count)\n",
    "            elif i == 1:\n",
    "                value_average = df['price'].loc[(df['neighbourhood'] == neighbourhood) & (df['room_type'] == room)].describe()[i]\n",
    "                average2.append(value_average)\n",
    "            elif i == 3:\n",
    "                value_minimum = df['price'].loc[(df['neighbourhood'] == neighbourhood) & (df['room_type'] == room)].describe()[i]\n",
    "                minimum2.append(value_minimum)\n",
    "            elif i == 5:\n",
    "                value_median = df['price'].loc[(df['neighbourhood'] == neighbourhood) & (df['room_type'] == room)].describe()[i]\n",
    "                median2.append(value_median)\n",
    "            else:\n",
    "                value_maximum = df['price'].loc[(df['neighbourhood'] == neighbourhood) & (df['room_type'] == room)].describe()[i]\n",
    "                maximum2.append(value_maximum)\n",
    "                \n",
    "                value_difference = value_maximum - value_minimum\n",
    "                difference2.append(value_difference)\n",
    "        \n",
    "        dict_neighbourhood_analysis2['count'] = count2\n",
    "        dict_neighbourhood_analysis2['mean'] = average2\n",
    "        dict_neighbourhood_analysis2['median'] = median2\n",
    "        dict_neighbourhood_analysis2['min'] = minimum2\n",
    "        dict_neighbourhood_analysis2['max'] = maximum2\n",
    "        dict_neighbourhood_analysis2['range'] = difference2\n",
    "            \n",
    "            \n",
    "\n",
    "header2 = [\n",
    "            [\n",
    "                df['neighbourhood'].unique()[17], df['neighbourhood'].unique()[17],\n",
    "                df['neighbourhood'].unique()[24], df['neighbourhood'].unique()[24]\n",
    "            ],\n",
    "            [\n",
    "                df['room_type'].unique()[0], df['room_type'].unique()[1],\n",
    "                df['room_type'].unique()[0], df['room_type'].unique()[1] \n",
    "            ]\n",
    "         ]\n",
    "\n",
    "\n",
    "df_neighbourhood_analysis2 = pd.DataFrame(dict_neighbourhood_analysis2.values(), index = dict_neighbourhood_analysis2.keys(), columns = header2)\n",
    "\n",
    "df_neighbourhood_analysis2   "
   ]
  },
  {
   "cell_type": "markdown",
   "id": "vertical-coverage",
   "metadata": {},
   "source": [
    "In order to have a better view of prices and confirmation of the presence of outliers, we will plot the boxplot again for properties in these neighbourhoods."
   ]
  },
  {
   "cell_type": "code",
   "execution_count": 25,
   "id": "martial-pillow",
   "metadata": {
    "ExecuteTime": {
     "end_time": "2021-02-10T13:32:10.880157Z",
     "start_time": "2021-02-10T13:32:10.496081Z"
    }
   },
   "outputs": [
    {
     "data": {
      "image/png": "[encoded data removed]",
      "text/plain": [
       "<Figure size 1296x792 with 1 Axes>"
      ]
     },
     "metadata": {},
     "output_type": "display_data"
    }
   ],
   "source": [
    "milbertshofen_neigh = df[(df['room_type'] != 'Shared room') & (df['room_type'] != 'Hotel room') \\\n",
    "                & (df['neighbourhood'] == 'Milbertshofen-Am Hart')]\n",
    "\n",
    "moosach_neigh = df[(df['room_type'] != 'Shared room') & (df['room_type'] != 'Hotel room') \\\n",
    "                & (df['neighbourhood'] == 'Moosach')]\n",
    "\n",
    "che_neigh = pd.concat([moosach_neigh, milbertshofen_neigh]).reset_index(drop = True)\n",
    "\n",
    "che_neigh\n",
    "\n",
    "sns.boxplot(x = 'room_type', y = 'price' , data = che_neigh, hue = 'neighbourhood', width = 0.5)\n",
    "sns.set_context(\"poster\", font_scale = .5)\n",
    "plt.legend(bbox_to_anchor=(1.05, 1), loc=2, borderaxespad=0.);"
   ]
  },
  {
   "cell_type": "markdown",
   "id": "built-shape",
   "metadata": {},
   "source": [
    "Through the boxplot chart, the presence of outliers in the price of different property types in these neighbourhoods is clear. For this reason, it is better to consider the median price, as the median is not as sensitive to outlier values as the average.\n",
    "\n",
    "With that, we can conclude that:\n",
    "\n",
    "* The price for *'Entire home/apt'* is **lower in Moosach** than in Milbertshofen-Am Hart.\n",
    "\n",
    "* Although Moosach is the cheapest location based on the median price for the *'Entire home/apt'* property type, it is possible to find this type of property for the lowest minimum price of **€ 16.00 in Milbertshofen-Am Hart**.\n",
    "\n",
    "* The price of  property type *'Private room'* is **lower in Milbertshofen-Am Hart** than in Moosach.\n",
    "\n",
    "* It is possible to find *'Private room'* properties at a minimum price lower **in Moosach** than in Milbertshofen-Am Hart."
   ]
  },
  {
   "cell_type": "markdown",
   "id": "hired-chancellor",
   "metadata": {},
   "source": [
    "### Q5 - Can tourist spots represent high prices when choosing properties in Munich on Airbnb?"
   ]
  },
  {
   "cell_type": "markdown",
   "id": "controlled-necklace",
   "metadata": {},
   "source": [
    "We know that in most urban centers, the central regions usually have the largest number of sights, places for nightlife, restaurants, offices, and more. Consequently, this increases the demand for people looking for apartments and rooms in these areas, making prices in these areas commonly higher than in other regions.\n",
    "\n",
    "A final analysis will be conducted to identify tourist spots in Munich, and then confirm whether the location of these tourist spots is closer to the most expensive or cheapest neighbourhoods in the city.\n",
    "\n",
    "For this, the [Inside Airbnb](http://insideairbnb.com/get-the-data.html) website has another dataset on which we can make this analysis.\n",
    "\n",
    "This data frame has already been generated in the **'Obtaining the Data'* part of this notebook."
   ]
  },
  {
   "cell_type": "code",
   "execution_count": 26,
   "id": "acknowledged-divorce",
   "metadata": {
    "ExecuteTime": {
     "end_time": "2021-02-10T13:32:13.931521Z",
     "start_time": "2021-02-10T13:32:13.906858Z"
    }
   },
   "outputs": [
    {
     "data": {
      "text/plain": [
       "array(['Altstadt-Lehel', 'Ludwigsvorstadt-Isarvorstadt', 'None',\n",
       "       'Moosach', 'Milbertshofen-Am Hart'], dtype=object)"
      ]
     },
     "execution_count": 26,
     "metadata": {},
     "output_type": "execute_result"
    }
   ],
   "source": [
    "# null data\n",
    "munich_neighbourhoods_airbnb_df = munich_neighbourhoods_airbnb_df[~ munich_neighbourhoods_airbnb_df['neighbourhood'].isnull()]\n",
    "\n",
    "munich_neighbourhoods_airbnb_df.head()\n",
    "\n",
    "# expensive and cheap neighbourhoods\n",
    "\n",
    "munich_neighbourhoods_airbnb_df.loc[(\n",
    "                munich_neighbourhoods_airbnb_df['neighbourhood'] != 'Ludwigsvorstadt-Isarvorstadt') & ( \\\n",
    "                munich_neighbourhoods_airbnb_df['neighbourhood'] != 'Altstadt-Lehel') & ( \\\n",
    "                munich_neighbourhoods_airbnb_df['neighbourhood'] != 'Milbertshofen-Am Hart') & ( \\\n",
    "                munich_neighbourhoods_airbnb_df['neighbourhood'] != 'Moosach'), 'neighbourhood'] = 'None'\n",
    "\n",
    "munich_neighbourhoods_airbnb_df['neighbourhood'].unique()\n"
   ]
  },
  {
   "cell_type": "markdown",
   "id": "plain-display",
   "metadata": {},
   "source": [
    "With the `Nominatim`, we can create a locator using the name of these tourist spots and get their latitudes and longitudes. These tourist spots were selected on the [official website of Munich](https://www.muenchen.de/sehenswuerdigkeiten/top-20-sehenswuerdigkeiten.html). \n",
    "\n",
    "After generating a dictionary of tourist spots in Munich, we can start plotting our map of Munich, with the chosen neighbourhoods and tourist spots."
   ]
  },
  {
   "cell_type": "code",
   "execution_count": 27,
   "id": "painful-consumption",
   "metadata": {
    "ExecuteTime": {
     "end_time": "2021-02-10T13:32:27.287292Z",
     "start_time": "2021-02-10T13:32:18.088936Z"
    }
   },
   "outputs": [
    {
     "data": {
      "text/plain": [
       "{'Frauenkirche München': (11.573592008043118, 48.1385821),\n",
       " 'Schloss Nymphenburg': (11.5032967, 48.1582569),\n",
       " 'Marienplatz': (11.575924590567384, 48.137031750000006),\n",
       " 'Alter Peter': (11.576030455223243, 48.13644495),\n",
       " 'Allianz Arena': (11.624664151799873, 48.21880845),\n",
       " 'Karlsplatz (Stachus)': (11.565622, 48.1394857),\n",
       " 'Odeonsplatz': (11.5763171, 48.1427658),\n",
       " 'Residenz': (11.57904463904056, 48.1411608),\n",
       " 'Deutsches Museum': (11.582908990594504, 48.1300409),\n",
       " 'Olympiapark': (11.55032660696114, 48.16875265),\n",
       " 'BMW Welt': (11.556375779693298, 48.1772189),\n",
       " 'Alte Pinakothek': (11.569970907138872, 48.1482861),\n",
       " 'Neue Pinakothek': (11.570937445883057, 48.1499278),\n",
       " 'Pinakothek der Moderne': (11.572227101401982, 48.14716025),\n",
       " 'Tierpark Hellabrunn': (11.554196865190177, 48.096281149999996),\n",
       " 'Bayerische Staatsoper': (11.579513288504806, 48.1396162),\n",
       " 'Hofbräuhaus': (11.57998140312025, 48.13757095),\n",
       " 'Alter Hof': (11.5780147, 48.1382036),\n",
       " 'Viktualienmarkt': (11.576255684942478, 48.135575200000005)}"
      ]
     },
     "execution_count": 27,
     "metadata": {},
     "output_type": "execute_result"
    }
   ],
   "source": [
    "# function to get latitude and longitude\n",
    "\n",
    "def latitude_longitude_locator(x):\n",
    "    \n",
    "    locator = Nominatim(user_agent = 'myGeocoder')\n",
    "\n",
    "    location = locator.geocode(x)\n",
    "    \n",
    "    if location is None:\n",
    "        None\n",
    "    else:\n",
    "        return location.longitude, location.latitude\n",
    "\n",
    "# list of touristic locations\n",
    "\n",
    "munchen_locations = [\n",
    "                     'Frauenkirche München', \n",
    "                     'Schloss Nymphenburg', \n",
    "                     'Marienplatz', \n",
    "                     'Alter Peter',\n",
    "                     'Allianz Arena',\n",
    "                     'Karlsplatz (Stachus)',\n",
    "                     'Odeonsplatz', \n",
    "                     'Residenz',\n",
    "                     'Deutsches Museum', \n",
    "                     'Olympiapark',\n",
    "                     'BMW Welt',\n",
    "                     'Alte Pinakothek',\n",
    "                     'Neue Pinakothek',\n",
    "                     'Pinakothek der Moderne',\n",
    "                     'Tierpark Hellabrunn',\n",
    "                     'Bayerische Staatsoper',\n",
    "                     'Hofbräuhaus',\n",
    "                     'Alter Hof',\n",
    "                     'Viktualienmarkt',\n",
    "                    ]\n",
    "\n",
    "# get the geo data\n",
    "munchen_locations_geo = {\n",
    "                         x: latitude_longitude_locator(x) \n",
    "                         for x in munchen_locations \n",
    "                        }\n",
    "\n",
    "# remove none data\n",
    "munchen_locations_geo = {\n",
    "                         k: v \n",
    "                         for k, v in munchen_locations_geo.items()\n",
    "                         if v is not None\n",
    "                        }\n",
    "\n",
    "munchen_locations_geo"
   ]
  },
  {
   "cell_type": "markdown",
   "id": "expensive-bidder",
   "metadata": {},
   "source": [
    "On the map, we can confirm that most of the tourist spots in Munich are located in the most expensive neighbourhoods of the city."
   ]
  },
  {
   "cell_type": "code",
   "execution_count": 28,
   "id": "preliminary-following",
   "metadata": {
    "ExecuteTime": {
     "end_time": "2021-02-10T13:32:31.964110Z",
     "start_time": "2021-02-10T13:32:31.215142Z"
    }
   },
   "outputs": [
    {
     "data": {
      "image/png": "[encoded data removed]",
      "text/plain": [
       "<Figure size 1296x792 with 1 Axes>"
      ]
     },
     "metadata": {},
     "output_type": "display_data"
    }
   ],
   "source": [
    "fig, ax = plt.subplots()\n",
    "\n",
    "munich_neighbourhoods_airbnb_df.plot(\n",
    "                                     ax = ax, \n",
    "                                     alpha = 0.8\n",
    "                                    )\n",
    "\n",
    "munich_neighbourhoods_airbnb_df.plot(\n",
    "                                     ax = ax, \n",
    "                                     column = 'neighbourhood',\n",
    "                                     categorical = True, \n",
    "                                     legend = True, \n",
    "                                     legend_kwds = {'title': 'Neighbourhood', 'loc': 'upper right'},\n",
    "                                     cmap = 'tab20', \n",
    "                                     edgecolor = 'black',\n",
    "                                    )\n",
    "\n",
    "for c in munchen_locations_geo.keys():\n",
    "\n",
    "#   ax.text(\n",
    "#           x = munchen_locations_geo[c][0], \n",
    "#           y = munchen_locations_geo[c][1] + 0.005, \n",
    "#           s = c, \n",
    "#           fontsize = 3,\n",
    "#           ha = 'center' \n",
    "#          )\n",
    "\n",
    "    ax.plot(\n",
    "            munchen_locations_geo[c][0], \n",
    "            munchen_locations_geo[c][1], \n",
    "            marker = 'o',\n",
    "            c = 'black', \n",
    "            alpha = 0.5\n",
    "           )\n",
    "\n",
    "ax.set(\n",
    "       title = 'Munich Neighbourhoods', \n",
    "       aspect = 1.3\n",
    "      );"
   ]
  },
  {
   "cell_type": "markdown",
   "id": "explicit-suffering",
   "metadata": {},
   "source": [
    "## Conclusion\n",
    "\n",
    "Even working with a non-complete dataset, it was possible to see many outliers in the price variable, which was the fundamental variable used for this analysis. Treatment of outliers was carried out at the beginning of the project, using the entire city as a parameter. However, when the analysis of the most expensive and cheapest neighbourhoods concerning the average price began, it was possible to observe the existence of outliers in neighbourhood prices, which means that the analysis with the average price can be a non-viable alternative for a better representation of reality.\n",
    "\n",
    "The analysis of the Airbnb in Munich showed us that the property types 'Entire room/apt' and 'Private room' are well balanced, probably it is a result of the policies applied regarding the restriction of the period of days for renting entire properties in the city.\n",
    "\n",
    "For future iterations in this project, I will use the complete dataset available on [Inside Airbnb](http://insideairbnb.com/get-the-data.html) website. This dataset offers a possibility of analyzing important variables that can explain the price, such as square meter, amenities among others.\n",
    "\n",
    "Questions, suggestions for improvements, and corrections are welcome, and thank you for analyzing the data with me so far!"
   ]
  }
 ],
 "metadata": {
  "kernelspec": {
   "display_name": "Python 3",
   "language": "python",
   "name": "python3"
  },
  "language_info": {
   "codemirror_mode": {
    "name": "ipython",
    "version": 3
   },
   "file_extension": ".py",
   "mimetype": "text/x-python",
   "name": "python",
   "nbconvert_exporter": "python",
   "pygments_lexer": "ipython3",
   "version": "3.9.0"
  }
 },
 "nbformat": 4,
 "nbformat_minor": 5
}
